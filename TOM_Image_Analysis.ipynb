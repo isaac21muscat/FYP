{
 "cells": [
  {
   "cell_type": "code",
   "execution_count": 196,
   "metadata": {},
   "outputs": [],
   "source": [
    "from matplotlib import pyplot as plt\n",
    "import numpy as np\n",
    "import os\n",
    "import math\n",
    "import csv"
   ]
  },
  {
   "cell_type": "code",
   "execution_count": 197,
   "metadata": {},
   "outputs": [],
   "source": [
    "articlePaths = ['.\\\\TOM_Dataset\\\\TOM_Dataset_Inset\\\\Article_Information.csv', '.\\\\TOM_Dataset\\\\TOM_Dataset_Business\\\\Article_Information.csv', '.\\\\TOM_Dataset\\\\TOM_Dataset_National\\\\Article_Information.csv', '.\\\\TOM_Dataset\\\\TOM_Dataset_Opinion\\\\Article_Information.csv', '.\\\\TOM_Dataset\\\\TOM_Dataset_Sport\\\\Article_Information.csv', '.\\\\TOM_Dataset\\\\TOM_Dataset_World\\\\Article_Information.csv']\n",
    "imagePaths = ['.\\\\TOM_Dataset\\\\TOM_Dataset_Inset\\\\Image_Information.csv', '.\\\\TOM_Dataset\\\\TOM_Dataset_Business\\\\Image_Information.csv', '.\\\\TOM_Dataset\\\\TOM_Dataset_National\\\\Image_Information.csv', '.\\\\TOM_Dataset\\\\TOM_Dataset_Opinion\\\\Image_Information.csv', '.\\\\TOM_Dataset\\\\TOM_Dataset_Sport\\\\Image_Information.csv', '.\\\\TOM_Dataset\\\\TOM_Dataset_World\\\\Image_Information.csv']"
   ]
  },
  {
   "cell_type": "code",
   "execution_count": 198,
   "metadata": {},
   "outputs": [],
   "source": [
    "def countInsets(data):\n",
    "    print(data)\n",
    "    insetCounter = 0\n",
    "    with open(data, newline='') as csvfile:\n",
    "        spamreader = csv.reader(csvfile)\n",
    "        for row in spamreader:\n",
    "            if row[3] == \"True\":\n",
    "                insetCounter += 1\n",
    "    return insetCounter"
   ]
  },
  {
   "cell_type": "code",
   "execution_count": 199,
   "metadata": {},
   "outputs": [
    {
     "name": "stdout",
     "output_type": "stream",
     "text": [
      ".\\TOM_Dataset\\TOM_Dataset_Inset\\Image_Information.csv\n",
      ".\\TOM_Dataset\\TOM_Dataset_Business\\Image_Information.csv\n",
      ".\\TOM_Dataset\\TOM_Dataset_National\\Image_Information.csv\n",
      ".\\TOM_Dataset\\TOM_Dataset_Opinion\\Image_Information.csv\n",
      ".\\TOM_Dataset\\TOM_Dataset_Sport\\Image_Information.csv\n",
      ".\\TOM_Dataset\\TOM_Dataset_World\\Image_Information.csv\n"
     ]
    }
   ],
   "source": [
    "for path in imagePaths:\n",
    "    countInsets(path)"
   ]
  },
  {
   "cell_type": "code",
   "execution_count": 200,
   "metadata": {},
   "outputs": [],
   "source": [
    "def categoriesDictionary(data):\n",
    "    print(data)\n",
    "    categoryCounts = {}\n",
    "    with open(data, newline='') as csvfile:\n",
    "        spamreader = csv.reader(csvfile)\n",
    "        next(spamreader)\n",
    "        for row in spamreader:\n",
    "            for category in row[4].split(','):\n",
    "                categoryCounts[category] = categoryCounts.get(category, 0) + 1\n",
    "    print(categoryCounts)\n",
    "    return categoryCounts"
   ]
  },
  {
   "cell_type": "code",
   "execution_count": 201,
   "metadata": {},
   "outputs": [
    {
     "name": "stdout",
     "output_type": "stream",
     "text": [
      ".\\TOM_Dataset\\TOM_Dataset_Inset\\Article_Information.csv\n",
      "{'Community': 10, 'History': 8, 'Maritime': 2, 'Business': 3, 'Environment': 1, 'National': 43, 'Mosta': 1, 'War': 1, 'Features': 1, 'Crime': 5, 'Murder': 7, 'Media': 1, 'Politics': 1, 'Analysis': 1, 'Opinion': 2, 'Letters': 2, 'Court': 7, 'Construction': 5, 'St Paul’s Bay': 1, 'Justice': 1, 'Royal Family': 1, 'Hospitals deal': 1, 'Government': 2, 'Diplomacy': 1, 'Police': 5, 'Yorgen Fenech': 3, 'Electrogas': 1, 'Daphne Caruana Galizia': 1, 'World': 2, 'Greece': 2, 'Tourism': 2, 'Charity': 2, 'Society': 3, 'Children': 2, 'Disability': 2, 'Buġibba': 2, 'Tech': 2, 'FIAU': 4, 'Economy': 4, 'Gaming': 4, 'Planning Authority': 3, 'Architecture': 2, 'COVID-19': 2, 'Books': 2, 'Russia': 2, 'Art': 2, 'Mqabba': 2, 'Adrian Delia': 2, 'PN': 2, 'President of Malta': 2, 'Libya': 1, 'Accident': 2, 'Gozo': 2, 'Ħamrun': 1}\n",
      ".\\TOM_Dataset\\TOM_Dataset_Business\\Article_Information.csv\n",
      "{'Business': 56, 'Properties': 8, 'Education': 1, 'Banking': 2, 'Consumers': 5, 'Opinion': 8, 'Comment': 1, 'Management': 1, 'Financial markets': 6, 'Analysis': 1, 'Technology': 1, 'National': 2, 'Food and drink': 1, 'Enemalta': 1, 'Retail': 1, 'Finance': 4, 'Tech': 1, 'Fintech': 1, 'Planning Authority': 1, 'Construction': 2, 'Gżira': 1, 'Maritime': 1, 'Motoring': 2, 'Events': 4, 'Eurozone': 2, 'Entertainment': 2, 'Exhibition': 2, 'Migration': 2, 'UK': 2, 'European Union': 2, 'Politics': 2, 'Environment': 2, 'Society': 4, 'Industry': 1, 'Economy': 1, 'Community': 1}\n",
      ".\\TOM_Dataset\\TOM_Dataset_National\\Article_Information.csv\n",
      "{'National': 56, 'Weather': 7, 'Health': 4, 'Media': 2, 'Diplomacy': 1, 'Ethiopia': 1, 'Libya': 3, 'Migration': 3, 'Court': 7, 'Energy': 9, 'Enemalta': 6, 'PN': 8, 'Construction': 9, 'Cost of living': 1, 'Tourism': 1, 'Robert Abela': 4, 'Government': 5, 'Gozo': 1, 'Police': 3, 'Xewkija': 1, 'Accident': 4, 'Politics': 6, 'Statistics': 5, 'PL': 6, 'ADPD': 1, 'Diving': 1, 'Environment': 1, 'Parliament': 4, 'Fact-check': 2, 'Elections': 2, 'Climate change': 2, 'Theatre': 2, 'Entertainment': 2, 'Animal welfare': 2, \"Ta' Qali\": 2, 'Elderly': 2, 'BCA': 2, 'Agriculture': 2, 'Community': 2, 'Food and drink': 3, 'Birkirkara': 2, 'President of Malta': 1, 'Business': 1, 'Bernard Grech': 1, 'Żabbar': 1}\n",
      ".\\TOM_Dataset\\TOM_Dataset_Opinion\\Article_Information.csv\n",
      "{'Opinion': 56, 'Cartoons': 5, 'Editorial': 11, 'Health': 1, 'Letters': 11, 'Sport': 1, 'Comment': 24, 'Football': 1, 'Environment': 4, 'Business': 6, 'Water': 1, 'Enemalta': 3, 'Energy': 3, 'Government': 4, 'Management': 1, 'Gender': 1, 'Mental health': 1, 'Robert Abela': 6, 'Justice': 6, 'Construction': 4, 'Climate change': 1, 'Weather': 1, 'Finance': 1, 'Rule of Law': 2, 'China': 2, 'Politics': 4, 'Agriculture': 2, 'Parliament': 5, 'Cost of living': 4, 'Elderly': 4, 'Statistics': 2, 'Waste': 2, 'European Union': 1, 'Accident': 1, 'PL': 1, 'Abortion': 1, 'India': 1, 'Employment': 1}\n",
      ".\\TOM_Dataset\\TOM_Dataset_Sport\\Article_Information.csv\n",
      "{'Sport': 56, 'Tennis': 4, 'Football': 33, 'Swimming (sport)': 3, 'Hockey': 1, 'Comment': 1, 'Opinion': 1, 'Basketball': 5, 'Cycling': 1, 'Formula 1': 7, 'Ligue 1': 7, 'La Liga': 2, 'World Cup': 4, 'Conference League': 2, 'World': 2, 'USA': 2, 'National': 1}\n",
      ".\\TOM_Dataset\\TOM_Dataset_World\\Article_Information.csv\n",
      "{'Entertainment': 2, 'World': 56, 'Culture': 2, 'Film': 1, 'Spain': 3, 'Elections': 2, 'Afghanistan': 1, 'Weather': 6, 'Civil society': 1, 'Government': 1, 'Ukraine': 10, 'Ukraine invasion': 5, 'Russia': 10, 'War': 2, 'Greece': 3, 'Fire': 3, 'Migration': 4, 'Morocco': 1, 'Energy': 1, 'European Union': 1, 'Science': 2, 'Research': 4, 'Sport': 1, 'Football': 1, 'USA': 6, 'Music': 1, 'Cyprus': 1, 'UK': 7, 'Health': 5, 'Murder': 3, 'Diplomacy': 1, 'South Africa': 1, 'Police': 5, 'Odd': 1, 'Court': 1, 'North Korea': 3, 'Climate change': 10, 'India': 2, 'Politics': 3, 'Italy': 2, 'Religion': 2, 'National': 2, 'Crime': 5, 'France': 2, 'Prison': 2, 'Tech': 2, 'Artificial Intelligence': 2, 'Internet': 2, 'Tunisia': 2, 'Africa': 2, 'Human rights': 3, 'Donald Trump': 2, 'United Nations': 1, 'Legislation': 1, 'Food and drink': 1, 'Europe': 1, 'Elderly': 1}\n"
     ]
    }
   ],
   "source": [
    "for path in articlePaths:\n",
    "    categoriesDictionary(path)"
   ]
  },
  {
   "cell_type": "code",
   "execution_count": 202,
   "metadata": {},
   "outputs": [],
   "source": [
    "\n",
    "\n",
    "# # Creating dataset\n",
    "# cars = ['AUDI', 'BMW', 'FORD', 'TESLA', 'JAGUAR', 'MERCEDES']\n",
    " \n",
    "# data = [23, 17, 35, 29, 12, 41]\n",
    " \n",
    "# # Creating plot\n",
    "# fig = plt.figure(figsize =(10, 7))\n",
    "# plt.pie(data, labels = cars)\n",
    " \n",
    "# # show plot\n",
    "# plt.show()"
   ]
  }
 ],
 "metadata": {
  "kernelspec": {
   "display_name": "fyp",
   "language": "python",
   "name": "python3"
  },
  "language_info": {
   "codemirror_mode": {
    "name": "ipython",
    "version": 3
   },
   "file_extension": ".py",
   "mimetype": "text/x-python",
   "name": "python",
   "nbconvert_exporter": "python",
   "pygments_lexer": "ipython3",
   "version": "3.11.4"
  },
  "orig_nbformat": 4
 },
 "nbformat": 4,
 "nbformat_minor": 2
}
