{
 "cells": [
  {
   "cell_type": "markdown",
   "metadata": {},
   "source": [
    "# Final Year Project - Times of Malta Image Analysis Section"
   ]
  },
  {
   "cell_type": "markdown",
   "metadata": {},
   "source": [
    "## Overview\n",
    "\n",
    "In this section, the images and their respective information scraped from the Times of Malta website and saved into the csv files are used to train a model which will serve as a binary classifier. Hence, this model when given an image will be able to evaluate whether it is an inset image or not."
   ]
  },
  {
   "cell_type": "markdown",
   "metadata": {},
   "source": [
    "## Installing / Importing Packages\n",
    "\n",
    "The following packages are required for the notebook to work."
   ]
  },
  {
   "cell_type": "code",
   "execution_count": 1,
   "metadata": {},
   "outputs": [],
   "source": [
    "#Importing necessary packages\n",
    "import matplotlib.pyplot as plt\n",
    "import numpy as np\n",
    "import tensorflow as tf\n",
    "import glob\n",
    "import pandas as pd\n",
    "from PIL import Image\n",
    "from tensorflow import keras\n",
    "from tensorflow.keras import layers\n",
    "from tensorflow.keras.models import Sequential"
   ]
  },
  {
   "cell_type": "markdown",
   "metadata": {},
   "source": [
    "## Setting List of Paths\n",
    "\n",
    "Three lists are being created to store the paths to the article information csv file, image information csv file and the folder containing the images themselves."
   ]
  },
  {
   "cell_type": "code",
   "execution_count": 2,
   "metadata": {},
   "outputs": [],
   "source": [
    "#Creating list of paths to article information, image information csv files and folders containing images\n",
    "articleInformationPaths = ['.\\\\TOM_Dataset\\\\TOM_Dataset_Inset\\\\Article_Information.csv', '.\\\\TOM_Dataset\\\\TOM_Dataset_Business\\\\Article_Information.csv', '.\\\\TOM_Dataset\\\\TOM_Dataset_National\\\\Article_Information.csv', '.\\\\TOM_Dataset\\\\TOM_Dataset_Opinion\\\\Article_Information.csv', '.\\\\TOM_Dataset\\\\TOM_Dataset_Sport\\\\Article_Information.csv', '.\\\\TOM_Dataset\\\\TOM_Dataset_World\\\\Article_Information.csv']\n",
    "imageInformationPaths = ['.\\\\TOM_Dataset\\\\TOM_Dataset_Inset\\\\Image_Information.csv', '.\\\\TOM_Dataset\\\\TOM_Dataset_Business\\\\Image_Information.csv', '.\\\\TOM_Dataset\\\\TOM_Dataset_National\\\\Image_Information.csv', '.\\\\TOM_Dataset\\\\TOM_Dataset_Opinion\\\\Image_Information.csv', '.\\\\TOM_Dataset\\\\TOM_Dataset_Sport\\\\Image_Information.csv', '.\\\\TOM_Dataset\\\\TOM_Dataset_World\\\\Image_Information.csv']\n",
    "imagePaths = ['.\\\\TOM_Dataset\\\\TOM_Dataset_Inset\\\\img', '.\\\\TOM_Dataset\\\\TOM_Dataset_Business\\\\img', '.\\\\TOM_Dataset\\\\TOM_Dataset_National\\\\img', '.\\\\TOM_Dataset\\\\TOM_Dataset_Opinion\\\\img', '.\\\\TOM_Dataset\\\\TOM_Dataset_Sport\\\\img', '.\\\\TOM_Dataset\\\\TOM_Dataset_World\\\\img']"
   ]
  },
  {
   "cell_type": "markdown",
   "metadata": {},
   "source": [
    "## Setting Folders of Inset and Non-Inset Images\n",
    "\n",
    "The image information csv files are opened and depending on whether the Inset attribute is set to True or False, the image is renamed and stored in the corresponding folder."
   ]
  },
  {
   "cell_type": "code",
   "execution_count": 3,
   "metadata": {},
   "outputs": [],
   "source": [
    "#Setting Counters\n",
    "insetCounter = 0\n",
    "notInsetCounter = 0\n",
    "\n",
    "#For each path\n",
    "for (imagePath, imageInformationPath) in zip(imagePaths, imageInformationPaths):\n",
    "\n",
    "    #Read the csv file\n",
    "    csvFile = pd.read_csv(imageInformationPath)\n",
    "\n",
    "    #For each image and its corresponding Inset attribute value in the csv file\n",
    "    for (filename, fileInformation) in zip(glob.glob(imagePath + \"/*\"), csvFile[\"Inset\"]):\n",
    "        \n",
    "        #Open the image\n",
    "        image = Image.open(filename)\n",
    "\n",
    "        #If it is Inset\n",
    "        if fileInformation == True:\n",
    "            \n",
    "            #Save the image in the inset folder\n",
    "            image.save('.\\\\TOM_Classification\\\\inset\\\\Image'+str(insetCounter)+\".jpg\")\n",
    "            insetCounter = insetCounter + 1\n",
    "        else:\n",
    "\n",
    "            #Save the image in the notinset folder\n",
    "            image.save('.\\\\TOM_Classification\\\\notinset\\\\Image'+str(notInsetCounter)+\".jpg\")\n",
    "            notInsetCounter = notInsetCounter + 1"
   ]
  },
  {
   "cell_type": "markdown",
   "metadata": {},
   "source": [
    "## Setting up Parameters\n",
    "\n",
    "Setting parameter values to be used when training the model."
   ]
  },
  {
   "cell_type": "code",
   "execution_count": 4,
   "metadata": {},
   "outputs": [],
   "source": [
    "#Setting parameters to be used\n",
    "batchSize = 32\n",
    "imageHeight = 180\n",
    "imageWidth = 180\n",
    "\n",
    "#Path from where to retrieve images\n",
    "dataDirectory = \".\\\\TOM_Classification\\\\\""
   ]
  },
  {
   "cell_type": "markdown",
   "metadata": {},
   "source": [
    "## Splitting Images into Training Set and Validation Set\n",
    "\n",
    "Using the image_dataset_from_directory() function provided by Tensorflow, the training set and validation set are created and saved into their respective variables."
   ]
  },
  {
   "cell_type": "code",
   "execution_count": 5,
   "metadata": {},
   "outputs": [
    {
     "name": "stdout",
     "output_type": "stream",
     "text": [
      "Found 1442 files belonging to 2 classes.\n",
      "Using 1154 files for training.\n"
     ]
    }
   ],
   "source": [
    "#Getting Training Set\n",
    "trainingSet = tf.keras.utils.image_dataset_from_directory(\n",
    "  dataDirectory,\n",
    "  validation_split = 0.2,\n",
    "  subset = \"training\",\n",
    "  seed = 123,\n",
    "  image_size = (imageHeight, imageWidth),\n",
    "  batch_size = batchSize)"
   ]
  },
  {
   "cell_type": "code",
   "execution_count": 6,
   "metadata": {},
   "outputs": [
    {
     "name": "stdout",
     "output_type": "stream",
     "text": [
      "Found 1442 files belonging to 2 classes.\n",
      "Using 288 files for validation.\n"
     ]
    }
   ],
   "source": [
    "#Getting Validation Set\n",
    "validationSet = tf.keras.utils.image_dataset_from_directory(\n",
    "  dataDirectory,\n",
    "  validation_split = 0.2,\n",
    "  subset = \"validation\",\n",
    "  seed = 123,\n",
    "  image_size = (imageHeight, imageWidth),\n",
    "  batch_size = batchSize)"
   ]
  },
  {
   "cell_type": "markdown",
   "metadata": {},
   "source": [
    "## Displaying Class Names\n",
    "\n",
    "The class names found are displayed to the user."
   ]
  },
  {
   "cell_type": "code",
   "execution_count": 7,
   "metadata": {},
   "outputs": [
    {
     "name": "stdout",
     "output_type": "stream",
     "text": [
      "['inset', 'notinset']\n"
     ]
    }
   ],
   "source": [
    "#Retrieving Class Names and displaying them\n",
    "classNames = trainingSet.class_names\n",
    "print(classNames)"
   ]
  },
  {
   "cell_type": "markdown",
   "metadata": {},
   "source": [
    "## Configuring Dataset for Performance Issues\n",
    "\n",
    "The dataset is cached to improve performance."
   ]
  },
  {
   "cell_type": "code",
   "execution_count": 8,
   "metadata": {},
   "outputs": [],
   "source": [
    "#Configuring Dataset and caching it\n",
    "AUTOTUNE = tf.data.AUTOTUNE\n",
    "\n",
    "trainingSet = trainingSet.cache().shuffle(1000).prefetch(buffer_size=AUTOTUNE)\n",
    "validationSet = validationSet.cache().prefetch(buffer_size=AUTOTUNE)"
   ]
  },
  {
   "cell_type": "markdown",
   "metadata": {},
   "source": [
    "## Normalising Data\n",
    "\n",
    "The Training Set RGB channel values are normalised from [0, 255] to [0, 1]."
   ]
  },
  {
   "cell_type": "code",
   "execution_count": 9,
   "metadata": {},
   "outputs": [],
   "source": [
    "#Normalising the data\n",
    "normalisationLayer = layers.Rescaling(1./255)\n",
    "normalisedSet = trainingSet.map(lambda x, y: (normalisationLayer(x), y))\n",
    "imageBatch, labelsBatch = next(iter(normalisedSet))\n",
    "firstImage = imageBatch[0]"
   ]
  },
  {
   "cell_type": "markdown",
   "metadata": {},
   "source": [
    "## Creating the Model\n",
    "\n",
    "The Keras Sequential model includes three convolution blocks, each followed by a max pooling layer. On top, there's a fully-connected layer with 128 units activated by ReLU."
   ]
  },
  {
   "cell_type": "code",
   "execution_count": 10,
   "metadata": {},
   "outputs": [],
   "source": [
    "#Getting number of classes\n",
    "numberOfClasses = len(classNames)\n",
    "\n",
    "#Creating Keras Sequential Model\n",
    "model = Sequential([\n",
    "  layers.Rescaling(1./255, input_shape=(imageHeight, imageWidth, 3)),\n",
    "  layers.Conv2D(16, 3, padding='same', activation='relu'),\n",
    "  layers.MaxPooling2D(),\n",
    "  layers.Conv2D(32, 3, padding='same', activation='relu'),\n",
    "  layers.MaxPooling2D(),\n",
    "  layers.Conv2D(64, 3, padding='same', activation='relu'),\n",
    "  layers.MaxPooling2D(),\n",
    "  layers.Flatten(),\n",
    "  layers.Dense(128, activation='relu'),\n",
    "  layers.Dense(numberOfClasses)\n",
    "])"
   ]
  },
  {
   "cell_type": "markdown",
   "metadata": {},
   "source": [
    "## Compiling the Model\n",
    "\n",
    "The compile function is called on the model."
   ]
  },
  {
   "cell_type": "code",
   "execution_count": 11,
   "metadata": {},
   "outputs": [],
   "source": [
    "#Compiling the model\n",
    "model.compile(optimizer='adam',\n",
    "              loss=tf.keras.losses.SparseCategoricalCrossentropy(from_logits=True),\n",
    "              metrics=['accuracy'])"
   ]
  },
  {
   "cell_type": "markdown",
   "metadata": {},
   "source": [
    "## Model Summary\n",
    "\n",
    "Displaying a summary of the model."
   ]
  },
  {
   "cell_type": "code",
   "execution_count": 12,
   "metadata": {},
   "outputs": [
    {
     "name": "stdout",
     "output_type": "stream",
     "text": [
      "Model: \"sequential\"\n",
      "_________________________________________________________________\n",
      " Layer (type)                Output Shape              Param #   \n",
      "=================================================================\n",
      " rescaling_1 (Rescaling)     (None, 180, 180, 3)       0         \n",
      "                                                                 \n",
      " conv2d (Conv2D)             (None, 180, 180, 16)      448       \n",
      "                                                                 \n",
      " max_pooling2d (MaxPooling2  (None, 90, 90, 16)        0         \n",
      " D)                                                              \n",
      "                                                                 \n",
      " conv2d_1 (Conv2D)           (None, 90, 90, 32)        4640      \n",
      "                                                                 \n",
      " max_pooling2d_1 (MaxPoolin  (None, 45, 45, 32)        0         \n",
      " g2D)                                                            \n",
      "                                                                 \n",
      " conv2d_2 (Conv2D)           (None, 45, 45, 64)        18496     \n",
      "                                                                 \n",
      " max_pooling2d_2 (MaxPoolin  (None, 22, 22, 64)        0         \n",
      " g2D)                                                            \n",
      "                                                                 \n",
      " flatten (Flatten)           (None, 30976)             0         \n",
      "                                                                 \n",
      " dense (Dense)               (None, 128)               3965056   \n",
      "                                                                 \n",
      " dense_1 (Dense)             (None, 2)                 258       \n",
      "                                                                 \n",
      "=================================================================\n",
      "Total params: 3988898 (15.22 MB)\n",
      "Trainable params: 3988898 (15.22 MB)\n",
      "Non-trainable params: 0 (0.00 Byte)\n",
      "_________________________________________________________________\n"
     ]
    }
   ],
   "source": [
    "#Displaying Model Summary\n",
    "model.summary()"
   ]
  },
  {
   "cell_type": "markdown",
   "metadata": {},
   "source": [
    "## Training the Model\n",
    "\n",
    "The model is now trained for six epochs using the training set. The validation set is also used to calculated the accuracy and loss."
   ]
  },
  {
   "cell_type": "code",
   "execution_count": 13,
   "metadata": {},
   "outputs": [
    {
     "name": "stdout",
     "output_type": "stream",
     "text": [
      "Epoch 1/10\n",
      "37/37 [==============================] - 11s 269ms/step - loss: 0.2566 - accuracy: 0.9246 - val_loss: 0.2875 - val_accuracy: 0.9444\n",
      "Epoch 2/10\n",
      "37/37 [==============================] - 11s 293ms/step - loss: 0.2086 - accuracy: 0.9463 - val_loss: 0.1988 - val_accuracy: 0.9444\n",
      "Epoch 3/10\n",
      "37/37 [==============================] - 10s 278ms/step - loss: 0.1990 - accuracy: 0.9454 - val_loss: 0.1990 - val_accuracy: 0.9444\n",
      "Epoch 4/10\n",
      "37/37 [==============================] - 9s 255ms/step - loss: 0.1500 - accuracy: 0.9523 - val_loss: 0.1537 - val_accuracy: 0.9479\n",
      "Epoch 5/10\n",
      "37/37 [==============================] - 10s 272ms/step - loss: 0.1204 - accuracy: 0.9593 - val_loss: 0.1991 - val_accuracy: 0.9479\n",
      "Epoch 6/10\n",
      "37/37 [==============================] - 10s 262ms/step - loss: 0.0913 - accuracy: 0.9723 - val_loss: 0.1259 - val_accuracy: 0.9653\n",
      "Epoch 7/10\n",
      "37/37 [==============================] - 10s 266ms/step - loss: 0.0576 - accuracy: 0.9818 - val_loss: 0.2010 - val_accuracy: 0.9653\n",
      "Epoch 8/10\n",
      "37/37 [==============================] - 10s 258ms/step - loss: 0.0382 - accuracy: 0.9922 - val_loss: 0.1885 - val_accuracy: 0.9653\n",
      "Epoch 9/10\n",
      "37/37 [==============================] - 10s 257ms/step - loss: 0.0246 - accuracy: 0.9957 - val_loss: 0.2232 - val_accuracy: 0.9653\n",
      "Epoch 10/10\n",
      "37/37 [==============================] - 10s 264ms/step - loss: 0.0150 - accuracy: 0.9931 - val_loss: 0.3019 - val_accuracy: 0.9653\n"
     ]
    }
   ],
   "source": [
    "#Setting number of epochs to occur\n",
    "epochs = 10\n",
    "\n",
    "#Training the Model\n",
    "history = model.fit(\n",
    "  trainingSet,\n",
    "  validation_data = validationSet,\n",
    "  epochs = epochs\n",
    ")"
   ]
  },
  {
   "cell_type": "markdown",
   "metadata": {},
   "source": [
    "## Displaying Accuracy and Loss Graphs\n",
    "\n",
    "The Training and Validation Graphs are displayed showing the change in accuracy and loss over each epoch."
   ]
  },
  {
   "cell_type": "code",
   "execution_count": 14,
   "metadata": {},
   "outputs": [
    {
     "data": {
      "image/png": "[encoded data removed]",
      "text/plain": [
       "<Figure size 800x800 with 2 Axes>"
      ]
     },
     "metadata": {},
     "output_type": "display_data"
    }
   ],
   "source": [
    "#Retrieving accuracy and loss of both the training set and validation set\n",
    "accuracy = history.history['accuracy']\n",
    "validationAccuracy = history.history['val_accuracy']\n",
    "loss = history.history['loss']\n",
    "validationLoss = history.history['val_loss']\n",
    "\n",
    "#Retrieving the range of epochs\n",
    "epochsRange = range(epochs)\n",
    "\n",
    "#Plotting the Graphs\n",
    "plt.figure(figsize=(8, 8))\n",
    "plt.subplot(1, 2, 1)\n",
    "plt.plot(epochsRange, accuracy, label='Training Accuracy')\n",
    "plt.plot(epochsRange, validationAccuracy, label='Validation Accuracy')\n",
    "plt.legend(loc='lower right')\n",
    "plt.title('Training and Validation Accuracy')\n",
    "\n",
    "plt.subplot(1, 2, 2)\n",
    "plt.plot(epochsRange, loss, label='Training Loss')\n",
    "plt.plot(epochsRange, validationLoss, label='Validation Loss')\n",
    "plt.legend(loc='upper right')\n",
    "plt.title('Training and Validation Loss')\n",
    "plt.show()"
   ]
  }
 ],
 "metadata": {
  "kernelspec": {
   "display_name": "fyp",
   "language": "python",
   "name": "python3"
  },
  "language_info": {
   "codemirror_mode": {
    "name": "ipython",
    "version": 3
   },
   "file_extension": ".py",
   "mimetype": "text/x-python",
   "name": "python",
   "nbconvert_exporter": "python",
   "pygments_lexer": "ipython3",
   "version": "3.11.4"
  },
  "orig_nbformat": 4
 },
 "nbformat": 4,
 "nbformat_minor": 2
}
