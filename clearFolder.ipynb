{
 "cells": [
  {
   "cell_type": "markdown",
   "metadata": {},
   "source": [
    "## Installing / Importing Packages\n",
    "\n",
    "The following packages are required for the notebook to work."
   ]
  },
  {
   "cell_type": "code",
   "execution_count": 1,
   "metadata": {},
   "outputs": [],
   "source": [
    "#Importing the required modules\n",
    "import os\n",
    "import shutil"
   ]
  },
  {
   "cell_type": "markdown",
   "metadata": {},
   "source": [
    "## Clear Folder Function\n",
    "\n",
    "This function takes two input parameters:\n",
    "\n",
    "- **folderName** - The location of the folder to clear.\n",
    "\n",
    "The folder's contents are all deleted."
   ]
  },
  {
   "cell_type": "code",
   "execution_count": 2,
   "metadata": {},
   "outputs": [
    {
     "name": "stdout",
     "output_type": "stream",
     "text": [
      "Folder cleared\n",
      "Folder cleared\n",
      "Folder cleared\n",
      "Folder cleared\n",
      "Folder cleared\n",
      "Folder cleared\n",
      "Folder cleared\n",
      "Folder cleared\n",
      "Folder cleared\n",
      "Folder cleared\n",
      "Folder cleared\n",
      "Folder cleared\n",
      "Folder cleared\n",
      "Folder cleared\n",
      "Folder cleared\n",
      "Folder cleared\n",
      "Folder cleared\n",
      "Folder cleared\n",
      "Folder cleared\n",
      "Folder cleared\n",
      "Folder cleared\n"
     ]
    }
   ],
   "source": [
    "#Defining the function to clear the contents of a folder\n",
    "def clearFolder(folderName):\n",
    "    try:\n",
    "        #Iterating through the files in the folder\n",
    "        for filename in os.listdir(folderName):\n",
    "            file_path = os.path.join(folderName, filename)\n",
    "            try:\n",
    "                #Checking if the file is a file or a folder\n",
    "                if os.path.isfile(file_path) or os.path.islink(file_path):\n",
    "                    os.unlink(file_path)\n",
    "                elif os.path.isdir(file_path):\n",
    "                    shutil.rmtree(file_path)\n",
    "            except Exception as e:\n",
    "                print('Failed to delete %s. Reason: %s' % (file_path, e))\n",
    "    except FileNotFoundError:\n",
    "        print(\"Folder not found\")\n",
    "        exit(1)\n",
    "    print(\"Folder cleared\")\n",
    "\n",
    "clearFolder(\"./Object_Detection_Dataset/CSV/Test/images\")\n",
    "clearFolder(\"./Object_Detection_Dataset/CSV/Train/images\")\n",
    "clearFolder(\"./Object_Detection_Dataset/CSV/Val/images\")\n",
    "\n",
    "clearFolder(\"./Object_Detection_Dataset/YOLO/Test/images\")\n",
    "clearFolder(\"./Object_Detection_Dataset/YOLO/Train/images\")\n",
    "clearFolder(\"./Object_Detection_Dataset/YOLO/Val/images\")\n",
    "clearFolder(\"./Object_Detection_Dataset/YOLO/Test/labels\")\n",
    "clearFolder(\"./Object_Detection_Dataset/YOLO/Train/labels\")\n",
    "clearFolder(\"./Object_Detection_Dataset/YOLO/Val/labels\")\n",
    "\n",
    "clearFolder(\"./Object_Detection_Dataset/VOC XML/Test/images\")\n",
    "clearFolder(\"./Object_Detection_Dataset/VOC XML/Train/images\")\n",
    "clearFolder(\"./Object_Detection_Dataset/VOC XML/Val/images\")\n",
    "clearFolder(\"./Object_Detection_Dataset/VOC XML/Test/labels\")\n",
    "clearFolder(\"./Object_Detection_Dataset/VOC XML/Train/labels\")\n",
    "clearFolder(\"./Object_Detection_Dataset/VOC XML/Val/labels\")\n",
    "\n",
    "clearFolder(\"./Classification_Dataset/Train/inset\")\n",
    "clearFolder(\"./Classification_Dataset/Test/inset\")\n",
    "clearFolder(\"./Classification_Dataset/Val/inset\")\n",
    "clearFolder(\"./Classification_Dataset/Train/notinset\")\n",
    "clearFolder(\"./Classification_Dataset/Test/notinset\")\n",
    "clearFolder(\"./Classification_Dataset/Val/notinset\")"
   ]
  },
  {
   "cell_type": "markdown",
   "metadata": {},
   "source": [
    "## Clear CSV File Contents Function\n",
    "\n",
    "This function take one parameter:\n",
    "\n",
    "- **fileName** - The location of the folder to clear.\n",
    "\n",
    "The CSV file's contents are all deleted."
   ]
  },
  {
   "cell_type": "code",
   "execution_count": 3,
   "metadata": {},
   "outputs": [
    {
     "name": "stdout",
     "output_type": "stream",
     "text": [
      "File cleared\n",
      "File cleared\n",
      "File cleared\n"
     ]
    }
   ],
   "source": [
    "#Clearing the contents of a CSV file\n",
    "def clearCSVFileContents(fileName):\n",
    "    try:\n",
    "        with open(fileName, \"w\"):\n",
    "            pass\n",
    "    except FileNotFoundError:\n",
    "        print(\"File not found\")\n",
    "        exit(1)\n",
    "    print(\"File cleared\")\n",
    "\n",
    "clearCSVFileContents(\"./Object_Detection_Dataset/CSV/Test/labels.csv\")\n",
    "clearCSVFileContents(\"./Object_Detection_Dataset/CSV/Train/labels.csv\")\n",
    "clearCSVFileContents(\"./Object_Detection_Dataset/CSV/Val/labels.csv\")"
   ]
  }
 ],
 "metadata": {
  "kernelspec": {
   "display_name": "fyp",
   "language": "python",
   "name": "python3"
  },
  "language_info": {
   "codemirror_mode": {
    "name": "ipython",
    "version": 3
   },
   "file_extension": ".py",
   "mimetype": "text/x-python",
   "name": "python",
   "nbconvert_exporter": "python",
   "pygments_lexer": "ipython3",
   "version": "3.11.4"
  }
 },
 "nbformat": 4,
 "nbformat_minor": 2
}
