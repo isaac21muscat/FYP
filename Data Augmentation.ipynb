{
 "cells": [
  {
   "cell_type": "markdown",
   "id": "20545cfb",
   "metadata": {},
   "source": [
    "# TensorFlow Data Augmentation "
   ]
  },
  {
   "cell_type": "markdown",
   "id": "f6c73ea2",
   "metadata": {},
   "source": [
    "# <u>Authors:</u>\n",
    "## 1. Matthias Bartolo ID: 0436103L\n",
    "## 2. Luke Cardona ID: 0011803H\n",
    "## 3. Jerome Agius ID: 0353803L\n",
    "## 4. Isaac Muscat ID: 0265203L"
   ]
  },
  {
   "cell_type": "markdown",
   "id": "6e5d3b9a",
   "metadata": {},
   "source": [
    "## <u>Installed Packages</u>"
   ]
  },
  {
   "cell_type": "code",
   "execution_count": 1,
   "id": "2f22eaa0",
   "metadata": {},
   "outputs": [],
   "source": [
    "# !pip install tensorflow \n",
    "# !pip install --upgrade tensorflow"
   ]
  },
  {
   "cell_type": "markdown",
   "id": "55c2073a",
   "metadata": {},
   "source": [
    "## <u>Packages</u>"
   ]
  },
  {
   "cell_type": "code",
   "execution_count": 2,
   "id": "ae640cec",
   "metadata": {},
   "outputs": [],
   "source": [
    "import matplotlib.pyplot as plt\n",
    "import numpy as np\n",
    "import random\n",
    "import cv2\n",
    "import os \n",
    "import tensorflow as tf\n",
    "%matplotlib inline\n",
    "from IPython.display import Image\n",
    "from PIL import Image\n",
    "from tensorflow.keras.preprocessing.image import load_img, img_to_array, array_to_img, ImageDataGenerator\n",
    "from tensorflow.keras.layers.experimental.preprocessing import Rescaling, RandomCrop\n",
    "from scipy.ndimage import gaussian_filter"
   ]
  },
  {
   "cell_type": "markdown",
   "id": "286eaa24",
   "metadata": {},
   "source": [
    "## <u>Loading required images</u>"
   ]
  },
  {
   "cell_type": "markdown",
   "id": "24828ce9",
   "metadata": {},
   "source": [
    "1. Files should be saved into Normal Images\n",
    "2. Emoji Images should be saved for every 50 or so images.\n",
    "3. Train Classifier"
   ]
  },
  {
   "cell_type": "code",
   "execution_count": 3,
   "id": "f9fe10d5",
   "metadata": {},
   "outputs": [],
   "source": [
    "#Create dictionary for images\n",
    "original_imgs = []\n",
    "\n",
    "# Iterate through each image in the folder\n",
    "for mainfolders in [filename for filename in os.listdir(\"COTSDataset/\") if filename.startswith(\"Part\")]:\n",
    "    for folders in os.listdir(\"COTSDataset/\" + mainfolders):\n",
    "        for image in os.listdir(\"COTSDataset/\" + mainfolders + \"/\" + folders):\n",
    "            if (image.endswith(\"colour.jpeg\")):\n",
    "                #Save image in dictionary\n",
    "                tempImage = cv2.imread(\"COTSDataset/\" + mainfolders + \"/\" + folders + \"/\" + image)\n",
    "                # Convert the image to RGB format (cv2 reads in BGR)\n",
    "                tempImage = cv2.cvtColor(tempImage, cv2.COLOR_BGR2RGB)\n",
    "                \n",
    "                # Adding the image to the list of original images\n",
    "                original_imgs.append(tempImage)\n",
    "                cv2.imwrite(os.path.join(\"Test Images/NormalImages/\", image), cv2.cvtColor(tempImage, cv2.COLOR_RGB2BGR))"
   ]
  },
  {
   "cell_type": "markdown",
   "id": "58e26683",
   "metadata": {},
   "source": [
    "## <u>Data Augmentation Functions</u> "
   ]
  },
  {
   "cell_type": "markdown",
   "id": "f4deb604",
   "metadata": {},
   "source": [
    "**AlterImage** - This function executes the passed data augmentation function on the passed image. The possible functions include:  \n",
    "\n",
    "- Rotation()\n",
    "- Brightness()\n",
    "- HorizontalFlip()\n",
    "- VerticalFlip()\n",
    "- Shear()\n",
    "- Translation()"
   ]
  },
  {
   "cell_type": "code",
   "execution_count": 5,
   "id": "71ff5308",
   "metadata": {},
   "outputs": [],
   "source": [
    "def AlterImage(img, function):\n",
    "    #Convert the image to a numpy array\n",
    "    img_array = tf.keras.preprocessing.image.img_to_array(img)\n",
    "\n",
    "    #Expand the dimensions of the image array to (1, height, width, channels)\n",
    "    img_array = tf.expand_dims(img_array, 0)\n",
    "\n",
    "    #Create an iterator for the data generator\n",
    "    it = function[0].flow(img_array)\n",
    "\n",
    "    #Get the first augmented image from the iterator\n",
    "    augmented_img_array = it.next()[0]\n",
    "\n",
    "    #Convert the augmented image array back to an image\n",
    "    augmented_img = tf.keras.preprocessing.image.array_to_img(augmented_img_array)\n",
    "    \n",
    "    return augmented_img, function[1]"
   ]
  },
  {
   "cell_type": "markdown",
   "id": "528e6b80",
   "metadata": {},
   "source": [
    "**Rotation** - This function is used in conjunction with the AlterImage function to rotate the image randomly within a set range. "
   ]
  },
  {
   "cell_type": "code",
   "execution_count": 6,
   "id": "ccc6d538",
   "metadata": {},
   "outputs": [],
   "source": [
    "def Rotation(RotationValue):\n",
    "    datagen = ImageDataGenerator(rotation_range=RotationValue)\n",
    "    return datagen, \"Rotation Image\""
   ]
  },
  {
   "cell_type": "markdown",
   "id": "284ec9ae",
   "metadata": {},
   "source": [
    "**Brightness** - This function is used in conjunction with the AlterImage function to adjusts the brightness of the image within a set range."
   ]
  },
  {
   "cell_type": "code",
   "execution_count": 7,
   "id": "cdec195e",
   "metadata": {},
   "outputs": [],
   "source": [
    "def Brightness(BrightnessValue):\n",
    "    datagen = ImageDataGenerator(\n",
    "        # Randomly adjust the brightness of the images by up to 30%\n",
    "        brightness_range=(BrightnessValue,BrightnessValue),\n",
    "    )\n",
    "    return datagen, \"Brightness Image\""
   ]
  },
  {
   "cell_type": "markdown",
   "id": "431d44bb",
   "metadata": {},
   "source": [
    "**Contrast** - This function adjusts the contrast of the passed image in between a certain range."
   ]
  },
  {
   "cell_type": "code",
   "execution_count": 8,
   "id": "7a95f456",
   "metadata": {},
   "outputs": [],
   "source": [
    "def Contrast(img, ContrastValue):\n",
    "    contrast_img = tf.image.random_contrast(img, 0, ContrastValue)\n",
    "    return contrast_img, \"Contrast Image\""
   ]
  },
  {
   "cell_type": "markdown",
   "id": "0a5bf53c",
   "metadata": {},
   "source": [
    "**Saturation** - This function adjusts the saturation of the passed image between a certain range."
   ]
  },
  {
   "cell_type": "code",
   "execution_count": 9,
   "id": "c17e156f",
   "metadata": {},
   "outputs": [],
   "source": [
    "def Saturation(img, SaturationValue):\n",
    "    saturation_img = tf.image.adjust_saturation(img, SaturationValue)\n",
    "    return saturation_img, \"Saturation Image\""
   ]
  },
  {
   "cell_type": "markdown",
   "id": "01a36755",
   "metadata": {},
   "source": [
    "**Hue** - This function adjusts the hue of the passed image between a certain range."
   ]
  },
  {
   "cell_type": "code",
   "execution_count": 10,
   "id": "21f2f993",
   "metadata": {},
   "outputs": [],
   "source": [
    "def Hue(img, HueValue):\n",
    "    hue_img = tf.image.random_hue(img, HueValue)\n",
    "    return hue_img, \"Hue Image\""
   ]
  },
  {
   "cell_type": "markdown",
   "id": "d3330cb3",
   "metadata": {},
   "source": [
    "**CenterCrop** - This function crops the center of the passed image and returns the cropped out section."
   ]
  },
  {
   "cell_type": "code",
   "execution_count": 11,
   "id": "04becaa8",
   "metadata": {},
   "outputs": [],
   "source": [
    "def CenterCrop(img):\n",
    "    height, width = tf.shape(img)[0], tf.shape(img)[1]\n",
    "\n",
    "    # Calculate the crop offset for the height and width dimensions\n",
    "    offset_height = tf.cast((height - 400) / 2, tf.int32)\n",
    "    offset_width = tf.cast((width - 400) / 2, tf.int32)\n",
    "\n",
    "    # Crop the image using the calculated offsets and crop size\n",
    "    centre_crop_img = tf.image.crop_to_bounding_box(img, offset_height, offset_width,400, 400)\n",
    "    return centre_crop_img, \"Center Crop Image\""
   ]
  },
  {
   "cell_type": "markdown",
   "id": "273fd54a",
   "metadata": {},
   "source": [
    "**HorizontalFlip** - This function is used in conjunction with the AlterImage function to flip the image horizontally in relation to its center point."
   ]
  },
  {
   "cell_type": "code",
   "execution_count": 12,
   "id": "28e47a16",
   "metadata": {},
   "outputs": [],
   "source": [
    "def HorizontalFlip(img):\n",
    "    horizontal_flip_img = tf.image.flip_left_right(img)\n",
    "    return horizontal_flip_img, \"Horizontal Flip Image\""
   ]
  },
  {
   "cell_type": "markdown",
   "id": "54ebc906",
   "metadata": {},
   "source": [
    "**VerticalFlip** - This function is used in conjunction with the AlterImage function to flip the image vertically in relation to its center point."
   ]
  },
  {
   "cell_type": "code",
   "execution_count": 13,
   "id": "456bee5d",
   "metadata": {},
   "outputs": [],
   "source": [
    "def VerticalFlip(img):\n",
    "    vertical_flip_img = tf.image.flip_up_down(img)\n",
    "    return vertical_flip_img,\"Vertical Flip Image\""
   ]
  },
  {
   "cell_type": "markdown",
   "id": "3971d07a",
   "metadata": {},
   "source": [
    "**Shear** - This function is used in conjunction with the AlterImage function to shear the image wihtin a set range."
   ]
  },
  {
   "cell_type": "code",
   "execution_count": 14,
   "id": "3c0092a4",
   "metadata": {},
   "outputs": [],
   "source": [
    "def Shear(ShearValue):\n",
    "    # Create an instance of ImageDataGenerator with the desired transformations\n",
    "    datagen = ImageDataGenerator(\n",
    "        # Apply shear transformation to the images\n",
    "        shear_range=ShearValue,\n",
    "    )\n",
    "    return datagen, \"Shear Image\""
   ]
  },
  {
   "cell_type": "markdown",
   "id": "801b58df",
   "metadata": {},
   "source": [
    "**Gamma** - This function alters the gamma values of the passed image within a set range."
   ]
  },
  {
   "cell_type": "code",
   "execution_count": 15,
   "id": "a7addb78",
   "metadata": {},
   "outputs": [],
   "source": [
    "def Gamma(img, GammaValue):\n",
    "    # Apply Gamma Transformation according to the GammaValue\n",
    "    gamma_img = tf.image.adjust_gamma(img, GammaValue)\n",
    "    return gamma_img, \"Gamma Image\""
   ]
  },
  {
   "cell_type": "markdown",
   "id": "1be36808",
   "metadata": {},
   "source": [
    "**Translation** - This function is used in conjunction with the AlterImage function to translate the entire image along both axis within a set range. "
   ]
  },
  {
   "cell_type": "code",
   "execution_count": 16,
   "id": "0bed032c",
   "metadata": {},
   "outputs": [],
   "source": [
    "def Translation(TranslationValue):\n",
    "    datagen = ImageDataGenerator(\n",
    "    # Randomly translate the images horizontally according to the Translation Value\n",
    "    width_shift_range=TranslationValue/10,\n",
    "    # Randomly translate the images vertically according to the Translation Value\n",
    "    height_shift_range=TranslationValue/10,\n",
    "    # Fill in any empty pixels with the nearest pixel value\n",
    "    fill_mode='nearest')\n",
    "    return datagen, \"Translation Image\""
   ]
  },
  {
   "cell_type": "markdown",
   "id": "1cda9451",
   "metadata": {},
   "source": [
    "**GaussianBlur** - This function applies the GaussianBlur kernel onto the passed image"
   ]
  },
  {
   "cell_type": "code",
   "execution_count": 17,
   "id": "681a3a75",
   "metadata": {},
   "outputs": [],
   "source": [
    "def GaussianBlur(img, GBlurValue):\n",
    "    # Apply Gaussian blur\n",
    "    gaussian_blur_img = gaussian_filter(img, sigma=GBlurValue)\n",
    "    # Convert back to image\n",
    "    gaussian_blur_img = tf.keras.preprocessing.image.array_to_img(gaussian_blur_img)\n",
    "    return gaussian_blur_img, \"Gaussian Blur Image\""
   ]
  },
  {
   "cell_type": "markdown",
   "id": "8f862ac6",
   "metadata": {},
   "source": [
    "**AugmentImg** - This function is used to apply all the image augmentation functions discussed above on the passed image and return a list of augemented images. "
   ]
  },
  {
   "cell_type": "code",
   "execution_count": 18,
   "id": "93af96ce",
   "metadata": {},
   "outputs": [],
   "source": [
    "def AugmentImg(img):\n",
    "    RotationValue = 30\n",
    "    BrightnessValue = 0.6\n",
    "    ContrastValue = 1\n",
    "    SaturationValue = 1\n",
    "    ShearValue = 30\n",
    "    HueValue = 0.1\n",
    "    GammaValue = 1\n",
    "    GBlurValue = 31\n",
    "    TranslationValue = 0.5\n",
    "    # Augmented_Img = {\"Rotations\":[], \"Brightness\":[],\"Contrast\":[],\"Saturation\":[],\n",
    "    #                  \"Hue\":[],\"Flipped\":[],\"Shearing\":[],\n",
    "    #                 \"CenterCrop\":[],\"Gamma\":[],\"GaussianBlur\":[],\"Translation\": []}\n",
    "    Augmented_Img = {\"Rotations\":[], \"Shearing\":[],\n",
    "                    \"CenterCrop\":[],\"Translation\": []}\n",
    "    #Executing all augmentation function fives times per image and storing the results\n",
    "    for x in range(1):\n",
    "\n",
    "        \n",
    "        #Photometric Augmentation\n",
    "        # Augmented_Img[\"Brightness\"].append(AlterImage(img,Brightness(BrightnessValue)))\n",
    "        # Augmented_Img[\"Contrast\"].append(Contrast(img,ContrastValue))\n",
    "        # Augmented_Img[\"Saturation\"].append(Saturation(img,SaturationValue))\n",
    "        # Augmented_Img[\"Hue\"].append(Hue(img,HueValue))\n",
    "        # Augmented_Img[\"Gamma\"].append(Gamma(img,GammaValue))\n",
    "        # Augmented_Img[\"GaussianBlur\"].append(GaussianBlur(img,GBlurValue))\n",
    "        \n",
    "        #Geometric Augmentation\n",
    "        Augmented_Img[\"Rotations\"].append(AlterImage(img, Rotation(RotationValue)))\n",
    "        Augmented_Img[\"CenterCrop\"].append(CenterCrop(img))\n",
    "        # Augmented_Img[\"Flipped\"].append(HorizontalFlip(img))\n",
    "        # Augmented_Img[\"Flipped\"].append(VerticalFlip(img))\n",
    "        Augmented_Img[\"Shearing\"].append(AlterImage(img,Shear(ShearValue)))\n",
    "        Augmented_Img[\"Translation\"].append(AlterImage(img,Translation(TranslationValue)))\n",
    "        \n",
    "        #Updating the parameter values\n",
    "        RotationValue += 30\n",
    "        BrightnessValue += 0.6\n",
    "        ContrastValue += 1\n",
    "        SaturationValue += 1\n",
    "        HueValue += 0.05\n",
    "        ShearValue += 30\n",
    "        GammaValue += 1\n",
    "        GBlurValue += 30\n",
    "        TranslationValue += 0.5\n",
    "    return Augmented_Img"
   ]
  },
  {
   "cell_type": "code",
   "execution_count": 19,
   "id": "c24b7d8e",
   "metadata": {},
   "outputs": [],
   "source": [
    "AugmentedImgs = []\n",
    "\n",
    "for img in original_imgs: \n",
    "    AugmentedImgs.append(AugmentImg(img))"
   ]
  },
  {
   "cell_type": "markdown",
   "id": "577d3131",
   "metadata": {},
   "source": [
    "# <u>Output Display</u>"
   ]
  },
  {
   "cell_type": "markdown",
   "id": "fdeb6c26",
   "metadata": {},
   "source": [
    "This method displays all the altered images in an orderly manner for presentation purposes."
   ]
  },
  {
   "cell_type": "code",
   "execution_count": 20,
   "id": "f6ada62c",
   "metadata": {
    "scrolled": false
   },
   "outputs": [],
   "source": [
    "# rows, cols = 11,5\n",
    "\n",
    "# #Looping through all the augmented images\n",
    "# for imgSet in AugmentedImgs:\n",
    "#     fig, ax = plt.subplots(11, 5, figsize=(10,20))\n",
    "#     row = 0\n",
    "#     for key in imgSet:\n",
    "#         for cnt in range(5):\n",
    "#             col = cnt % 5\n",
    "            \n",
    "#             #Setting the image\n",
    "#             ax[row][col].imshow(imgSet[key][cnt][0])\n",
    "            \n",
    "#             #Setting the title\n",
    "#             ax[row][col].set_title(imgSet[key][cnt][1]+\" \"+str(cnt+1)) \n",
    "            \n",
    "#             #Removing the axes\n",
    "#             ax[row][col].axis('off') \n",
    "#             fig.tight_layout()\n",
    "#         row += 1 "
   ]
  },
  {
   "cell_type": "markdown",
   "id": "14e2a20c",
   "metadata": {},
   "source": [
    "**SaveImages** - This function saves the passed list of images to the specified directory."
   ]
  },
  {
   "cell_type": "code",
   "execution_count": 21,
   "id": "f5af68b0",
   "metadata": {},
   "outputs": [],
   "source": [
    "def SaveImages(listOfImages, directory):\n",
    "    if not os.path.exists(directory):\n",
    "       # Create a new directory if it does not exist\n",
    "       os.makedirs(directory)\n",
    "    \n",
    "    count = 1\n",
    "    for imgSet in listOfImages:\n",
    "        \n",
    "        for key in imgSet:\n",
    "            #Saving the images\n",
    "            tf.keras.utils.save_img(directory + \"/Item_\"+str(count)+\"_\"+imgSet[key][0][1]+\"_\"+str(1)+\".jpeg\",imgSet[key][0][0], None, 'JPEG', True)\n",
    "        count += 1"
   ]
  },
  {
   "cell_type": "code",
   "execution_count": 22,
   "id": "6ad96aeb",
   "metadata": {},
   "outputs": [],
   "source": [
    "SaveImages(AugmentedImgs, \"./Test Images/NormalImages\")"
   ]
  },
  {
   "cell_type": "code",
   "execution_count": null,
   "id": "9bcfd563",
   "metadata": {},
   "outputs": [],
   "source": []
  }
 ],
 "metadata": {
  "kernelspec": {
   "display_name": "Python 3 (ipykernel)",
   "language": "python",
   "name": "python3"
  },
  "language_info": {
   "codemirror_mode": {
    "name": "ipython",
    "version": 3
   },
   "file_extension": ".py",
   "mimetype": "text/x-python",
   "name": "python",
   "nbconvert_exporter": "python",
   "pygments_lexer": "ipython3",
   "version": "3.11.4"
  }
 },
 "nbformat": 4,
 "nbformat_minor": 5
}
