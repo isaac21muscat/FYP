{
 "cells": [
  {
   "cell_type": "markdown",
   "metadata": {},
   "source": [
    "## Installing / Importing Packages\n",
    "\n",
    "The following packages are required for the notebook to work."
   ]
  },
  {
   "cell_type": "code",
   "execution_count": null,
   "metadata": {},
   "outputs": [],
   "source": [
    "# !git clone https://github.com/fizyr/keras-retinanet.git"
   ]
  },
  {
   "cell_type": "code",
   "execution_count": null,
   "metadata": {},
   "outputs": [],
   "source": [
    "# !pip install keras==2.15.0\n",
    "# !pip install gast==0.2.2\n",
    "# !pip install protobuf==3.17.3\n",
    "# !pip install tensorboard==2.10.0\n",
    "# !pip install tensorflow-estimator==2.10.0"
   ]
  },
  {
   "cell_type": "code",
   "execution_count": null,
   "metadata": {},
   "outputs": [],
   "source": [
    "# !pip install -r ./keras-retinanet/requirements.txt"
   ]
  },
  {
   "cell_type": "code",
   "execution_count": null,
   "metadata": {},
   "outputs": [],
   "source": [
    "import numpy as np\n",
    "import pandas as pd\n",
    "import os\n",
    "import xml.etree.ElementTree as ET\n",
    "from keras_retinanet.utils.visualization import draw_box, draw_caption , label_color\n",
    "from keras_retinanet.utils.image import preprocess_image, resize_image\n",
    "from os.path import isfile, join\n",
    "import matplotlib.pyplot as plt\n",
    "import urllib\n",
    "from os import listdir\n",
    "import glob\n",
    "from keras_retinanet.utils.image import read_image_bgr, preprocess_image, resize_image\n",
    "import time\n",
    "from keras_retinanet import models\n",
    "from PIL import Image, ImageDraw, ImageFont\n",
    "import csv\n",
    "import tensorflow as tf"
   ]
  },
  {
   "cell_type": "code",
   "execution_count": null,
   "metadata": {},
   "outputs": [],
   "source": [
    "#Checking the version of tensorflow\n",
    "tf.__version__\n",
    "\n",
    "#Checking if GPU is available\n",
    "gpus = tf.config.list_physical_devices('GPU')\n",
    "if gpus:\n",
    "    print(\"GPU is available\")\n",
    "    for gpu in gpus:\n",
    "        print(\"Device name:\", gpu.name)\n",
    "else:\n",
    "    print(\"No GPU available, using CPU instead\")"
   ]
  },
  {
   "cell_type": "code",
   "execution_count": null,
   "metadata": {},
   "outputs": [],
   "source": [
    "#Setting the path for the annotations\n",
    "annPath=\"../Object_Detection_Dataset/CSV/Train/labels.csv\""
   ]
  },
  {
   "cell_type": "code",
   "execution_count": null,
   "metadata": {},
   "outputs": [],
   "source": [
    "#Creating a folder to save the snapshots\n",
    "if not os.path.exists('snapshots'):\n",
    "  os.mkdir('snapshots')"
   ]
  },
  {
   "cell_type": "markdown",
   "metadata": {},
   "source": [
    "## Retrieving the Unique Labels from CSV Function\n",
    "\n",
    "This function takes two input parameters:\n",
    "\n",
    "- **csvPath** - The location of the filename to retrieve information from.\n",
    "- **index** - The column of the file to search through.\n",
    "\n",
    "The file is first opened and the unique values from the column indicated by the index are retrieved and returned as a set."
   ]
  },
  {
   "cell_type": "code",
   "execution_count": null,
   "metadata": {},
   "outputs": [],
   "source": [
    "#Defining a function to get the unique values from a CSV file's column\n",
    "def get_unique_values_from_csv(csvPath, index):\n",
    "    unique_values = set()\n",
    "    #Opening the CSV file\n",
    "    with open(csvPath, 'r') as file:\n",
    "        reader = csv.reader(file)\n",
    "        #Iterating through the rows of the CSV file\n",
    "        for row in reader:\n",
    "            #Checking if the row has the required index\n",
    "            if len(row) > index:\n",
    "                unique_values.add(row[index])\n",
    "    return unique_values\n",
    "\n",
    "#Getting the unique labels from the CSV file\n",
    "column_index = 5 \n",
    "unique_values = get_unique_values_from_csv(annPath, column_index)\n",
    "print(\"Unique Values:\", unique_values)"
   ]
  },
  {
   "cell_type": "markdown",
   "metadata": {},
   "source": [
    "## Inserting Information to CSV File Column\n",
    "\n",
    "This function takes three input parameters:\n",
    "\n",
    "- **csvFile** - The location of the filename to retrieve information from.\n",
    "- **directoryName** - The information to be inserted. \n",
    "- **columnIndex** - The column of the file to insert through.\n",
    "\n",
    "The file is first opened and all values are rewritten with the directoryName parameter concatenated to them. The file is then saved."
   ]
  },
  {
   "cell_type": "code",
   "execution_count": null,
   "metadata": {},
   "outputs": [],
   "source": [
    "#Defining a function to append the directory name to the column\n",
    "def appendDirectoryToColumn(csvFile, directoryName, columnIndex):\n",
    "    #Reading the CSV file and storing its contents\n",
    "    with open(csvFile, 'r') as file:\n",
    "        reader = csv.reader(file)\n",
    "        rows = list(reader)\n",
    "\n",
    "    #Appending the directory name to each value in the specified column\n",
    "    for row in rows:\n",
    "        row[columnIndex] = directoryName + row[columnIndex]\n",
    "\n",
    "    #Writing the modified data back to the CSV file\n",
    "    with open(csvFile, 'w', newline='') as file:\n",
    "        writer = csv.writer(file)\n",
    "        writer.writerows(rows)\n",
    "\n",
    "#Appending the directory name to the column\n",
    "appendDirectoryToColumn(annPath, \"images/\", 0)"
   ]
  },
  {
   "cell_type": "code",
   "execution_count": null,
   "metadata": {},
   "outputs": [],
   "source": [
    "#Creating a file to save the labels\n",
    "with open('./Classes.csv', 'w') as file:\n",
    "  for i, class_name in enumerate(unique_values):\n",
    "    file.write(f'{class_name},{i}\\n') "
   ]
  },
  {
   "cell_type": "markdown",
   "metadata": {},
   "source": [
    "## Installing and Loading Model\n",
    "\n",
    "The model is first downloaded and has a few of its files altered. The reason behind these file changes was for evaluation purposes later on in the document."
   ]
  },
  {
   "cell_type": "code",
   "execution_count": null,
   "metadata": {},
   "outputs": [],
   "source": [
    "#Downloading the pre-trained model\n",
    "url = 'https://github.com/fizyr/keras-retinanet/releases/download/0.5.1/resnet50_coco_best_v2.1.0.h5'\n",
    "model = './snapshots/resnet50_csv_v1.h5'\n",
    "urllib.request.urlretrieve(url, model)"
   ]
  },
  {
   "cell_type": "markdown",
   "metadata": {},
   "source": [
    "## Function to Replace Files\n",
    "\n",
    "This function takes two parameters:\n",
    "\n",
    "- **file_a** - The file to replace it with.\n",
    "- **file_b** - The file to be replaced.\n",
    "\n",
    "The file is overwritten by the other file's contents. This is used for evaluation purposes later on in the notebook."
   ]
  },
  {
   "cell_type": "code",
   "execution_count": null,
   "metadata": {},
   "outputs": [],
   "source": [
    "#Defining the function to replace the contents of a file\n",
    "def copy_and_replace(file_a, file_b):\n",
    "    try:\n",
    "        #Reading the contents of the first file\n",
    "        with open(file_a, 'r') as file_a_contents:\n",
    "            data = file_a_contents.read()\n",
    "        #Writing the contents of the first file to the second file\n",
    "        with open(file_b, 'w') as file_b_contents:\n",
    "            file_b_contents.write(data)\n",
    "\n",
    "        print(f\"Contents of {file_a} copied and replaced in {file_b} successfully.\")\n",
    "    except Exception as e:\n",
    "        print(f\"An error occurred: {e}\")"
   ]
  },
  {
   "cell_type": "code",
   "execution_count": null,
   "metadata": {},
   "outputs": [],
   "source": [
    "#Replacing the files in the keras-retinanet library\n",
    "evaluation_path = \"./filesToReplace/modified_evaluate.py\"\n",
    "evaluation_copyTo_path = \"./keras-retinanet/keras_retinanet/bin/evaluate.py\"\n",
    "\n",
    "eval_path = \"./filesToReplace/modified_eval.py\"\n",
    "eval_copyTo_path = \"./keras-retinanet/keras_retinanet/utils/eval.py\"\n",
    "\n",
    "visualise_path = \"./filesToReplace/modified_visualization.py\"\n",
    "visualise_copyTo_path= \"./keras-retinanet/keras_retinanet/utils/visualization.py\"\n",
    "\n",
    "copy_and_replace(evaluation_path, evaluation_copyTo_path)\n",
    "copy_and_replace(eval_path, eval_copyTo_path)\n",
    "copy_and_replace(visualise_path, visualise_copyTo_path)"
   ]
  },
  {
   "cell_type": "markdown",
   "metadata": {},
   "source": [
    "## Training Model\n",
    "\n",
    "The model is trained for 10 epochs, following that the model is saved and loaded."
   ]
  },
  {
   "cell_type": "code",
   "execution_count": null,
   "metadata": {},
   "outputs": [],
   "source": [
    "#Training the model\n",
    "!python keras-retinanet/keras_retinanet/bin/train.py \\\n",
    "        --freeze-backbone --random-transform --gpu 0 --weights ./snapshots/resnet50_csv_v1.h5 \\\n",
    "         --batch-size 4 --steps 250 --epochs 10 --tensorboard-dir tensorboard csv ../Object_Detection_Dataset/CSV/Train/labels.csv ./Classes.csv"
   ]
  },
  {
   "cell_type": "code",
   "execution_count": null,
   "metadata": {},
   "outputs": [],
   "source": [
    "#Selecting the latest model\n",
    "print(glob.glob('./snapshots/*.h5'))\n",
    "model_path = glob.glob('./snapshots/*.h5')[-2]\n",
    "\n",
    "#Loading the model\n",
    "print(model_path)\n",
    "model = models.load_model(model_path, backbone_name='resnet50')"
   ]
  },
  {
   "cell_type": "markdown",
   "metadata": {},
   "source": [
    "## Human Evaluation\n",
    "\n",
    "The model is tested on a few unseen examples which are displayed to the user for human verification of the performance of the model."
   ]
  },
  {
   "cell_type": "code",
   "execution_count": null,
   "metadata": {},
   "outputs": [],
   "source": [
    "#Loading the model and converting it\n",
    "model = models.load_model(glob.glob('./snapshots/*.h5')[-2], backbone_name='resnet50')\n",
    "model = models.convert_model(model)\n",
    "\n",
    "#Loading the classes\n",
    "labels_to_names = pd.read_csv(\"./Classes.csv\",header=None).T.loc[0].to_dict()"
   ]
  },
  {
   "cell_type": "code",
   "execution_count": null,
   "metadata": {},
   "outputs": [],
   "source": [
    "#Appending the directory name to the column of the test CSV file\n",
    "annPath=\"../Object_Detection_Dataset/CSV/Test/labels.csv\"\n",
    "appendDirectoryToColumn(annPath, \"images/\", 0)"
   ]
  },
  {
   "cell_type": "code",
   "execution_count": null,
   "metadata": {},
   "outputs": [],
   "source": [
    "%matplotlib inline\n",
    "%reload_ext autoreload\n",
    "%autoreload 2\n",
    "\n",
    "#Selecting five images from the test folder\n",
    "test_path = \"../Object_Detection_Dataset/CSV/Test/images/\"\n",
    "\n",
    "images = [os.path.join(test_path,img) for img in os.listdir(test_path) if '.jpeg' in img]\n",
    "\n",
    "images = images[:5]"
   ]
  },
  {
   "cell_type": "markdown",
   "metadata": {},
   "source": [
    "## Function to Perform Inference on an Image\n",
    "\n",
    "This function takes two parameters:\n",
    "\n",
    "- **img_path** - The image file to perform inference on.\n",
    "- **threshold** - The confidence threshold required.\n",
    "\n",
    "This function opens the image and performs some transformations before the inference process can be done. A timer is also set up to check the processing time required for predictions to occur. Once the predictions are made, those below the confidence threshold are removed and the remaining ones have the bounding box, label and confidence value inset into the image."
   ]
  },
  {
   "cell_type": "code",
   "execution_count": null,
   "metadata": {},
   "outputs": [],
   "source": [
    "#Defining a function to perform inference on an image\n",
    "def img_inference(img_path, threshold):\n",
    "    #Opening the image\n",
    "    image = Image.open(img_path)\n",
    "\n",
    "    #Creating a draw object\n",
    "    draw = ImageDraw.Draw(image)\n",
    "\n",
    "    #Specifying font and size for the label\n",
    "    font = ImageFont.load_default()\n",
    "\n",
    "    #Preprocessing the image for the network\n",
    "    image_np = read_image_bgr(img_path)\n",
    "    image_np = preprocess_image(image_np)\n",
    "    image_np, scale = resize_image(image_np)\n",
    "\n",
    "    #Performing inference on the image\n",
    "    start = time.time()\n",
    "    boxes, scores, labels = model.predict_on_batch(np.expand_dims(image_np, axis=0))\n",
    "    print(\"Processing Time: \", time.time() - start)\n",
    "\n",
    "    #Correcting the boxes for the image scale\n",
    "    boxes /= scale\n",
    "\n",
    "    #Iterating through the boxes\n",
    "    for box, score, label in zip(boxes[0], scores[0], labels[0]):\n",
    "        #Checking if the score is below the threshold\n",
    "        if score < threshold:\n",
    "            break\n",
    "\n",
    "        #Extracting the box coordinates\n",
    "        x1, y1, x2, y2 = box.astype(int)\n",
    "\n",
    "        #Drawing the rectangle around the object\n",
    "        draw.rectangle([x1, y1, x2, y2], outline=\"green\", width=2)\n",
    "\n",
    "        #Drawing the label and score\n",
    "        label_text = \"{} {:.2f}\".format(labels_to_names[label], score)\n",
    "        draw.text((x1, y1 - 15), label_text, fill=\"green\", font=font)\n",
    "        print(label_text)\n",
    "    \n",
    "    #Displaying the image\n",
    "    plt.imshow(image)\n",
    "    plt.axis('off')\n",
    "    plt.show()\n",
    "\n",
    "#Performing inference on the images\n",
    "for img in images:\n",
    "    img_inference(img, 0.5)\n",
    "\n"
   ]
  },
  {
   "cell_type": "markdown",
   "metadata": {},
   "source": [
    "## Testing the Model\n",
    "\n",
    "The model is converted to an inference model and is tested on the Testing Set. Its results are depicted through the use of a mAP graph for each label as well as a precision recall graph."
   ]
  },
  {
   "cell_type": "code",
   "execution_count": null,
   "metadata": {},
   "outputs": [],
   "source": [
    "#Convert training model to inference model\n",
    "\n",
    "#NOTE: CHANGE THE PATHS TO THE CORRECT PATHS\n",
    "\n",
    "!python keras-retinanet/keras_retinanet/bin/convert_model.py ./snapshots/resnet50_csv_10.h5 ./snapshots/inference_resnet50_csv.h5\n",
    "\n",
    "!python keras-retinanet/keras_retinanet/bin/evaluate.py --gpu 0 --score-threshold 0.0 --save-path ./evaluation --no-resize\\\n",
    "        csv ../Object_Detection_Dataset/CSV/Test/labels.csv ./Classes.csv ./snapshots/inference_resnet50_csv.h5"
   ]
  },
  {
   "cell_type": "code",
   "execution_count": null,
   "metadata": {},
   "outputs": [],
   "source": [
    "#Loading the evaluation results\n",
    "evaluation_results = np.load('./evaluation_results.npy', allow_pickle=True)\n",
    "\n",
    "average_precisions = evaluation_results[0]\n",
    "inference_time     = evaluation_results[1]\n",
    "precision_recall   = evaluation_results[2]"
   ]
  },
  {
   "cell_type": "markdown",
   "metadata": {},
   "source": [
    "## Calculating Mean Average Precision Value\n",
    "\n",
    "The mean average precision value is calculated alongside the average precision values for each label."
   ]
  },
  {
   "cell_type": "code",
   "execution_count": null,
   "metadata": {},
   "outputs": [],
   "source": [
    "#Reading the classes from the CSV file\n",
    "df = pd.read_csv('./Classes.csv', header=None)\n",
    "classes = df[0].tolist()\n",
    "\n",
    "#Retrieving the average precisions for each class\n",
    "aps = [average_precision[0] for label, average_precision in average_precisions.items()]\n",
    "\n",
    "#Displaying the average precisions for each class\n",
    "print('\\033[35m' + 'Average Precisions for each class:' + '\\033[0m')\n",
    "for idx, ap in enumerate(aps):\n",
    "    print(f'{classes[idx]:15}: {ap}')\n",
    "\n",
    "#Displaying the mean average precision\n",
    "mean_average_precision = np.mean(aps)\n",
    "print(f'\\n\\033[37m' + 'Mean Average Precision (mAP):' + '\\033[0m')\n",
    "print(f'{mean_average_precision}')"
   ]
  },
  {
   "cell_type": "markdown",
   "metadata": {},
   "source": [
    "## Displaying Average Precision Graph\n",
    "\n",
    "A bar chart is displayed depicting the Average Precision Value of each label."
   ]
  },
  {
   "cell_type": "code",
   "execution_count": null,
   "metadata": {},
   "outputs": [],
   "source": [
    "#Plotting the average precisions for each class\n",
    "plt.figure(figsize=(20, 10))\n",
    "plt.bar(list(average_precisions.keys()), list(aps), color='blue')\n",
    "\n",
    "#Putting text on the bar chart\n",
    "for idx, val in enumerate(aps):\n",
    "    plt.text(idx, val, round(val, 3), horizontalalignment='center', verticalalignment='bottom', fontdict={'fontweight': 500, 'size': 12})\n",
    "\n",
    "#Setting the x-ticks to correspond to all labels\n",
    "plt.gca().set_xticks(range(len(classes)))\n",
    "plt.xticks(rotation=45, fontsize=12)\n",
    "\n",
    "#Setting the labels to the actual class labels\n",
    "plt.gca().set_xticklabels(classes)\n",
    "plt.xlabel(\"Labels\", fontsize=14)\n",
    "plt.ylabel(\"Mean Average Precision\", fontsize=14)\n",
    "plt.title(\"Mean Average Precision vs Labels (Keras RetinaNet)\", fontsize=20)\n",
    "plt.tight_layout()\n",
    "plt.show()"
   ]
  },
  {
   "cell_type": "markdown",
   "metadata": {},
   "source": [
    "## Displaying Precision-Recall Curve\n",
    "\n",
    "The precision-recall curve is displayed using the results calculated earlier."
   ]
  },
  {
   "cell_type": "code",
   "execution_count": null,
   "metadata": {},
   "outputs": [],
   "source": [
    "#Plotting the precision-recall curve\n",
    "plt.figure(figsize=(20, 10))\n",
    "#Iterating through the precision-recall values\n",
    "for label, (precision_list, recall_list) in precision_recall.items():\n",
    "    plt.plot(recall_list, precision_list, label=str(classes[label]) + \" (AP: {:.4f})\".format(aps[label]))\n",
    "plt.xlabel(\"Recall\", fontsize=14)\n",
    "plt.ylabel(\"Precision\", fontsize=14)\n",
    "plt.title(\"Precision vs Recall Curve (Keras RetinaNet)\", fontsize=20)\n",
    "plt.legend(fontsize=12)\n",
    "plt.grid()\n",
    "plt.tight_layout()\n",
    "plt.show()\n"
   ]
  },
  {
   "cell_type": "markdown",
   "metadata": {},
   "source": [
    "## Resetting Files Function\n",
    "\n",
    "This function takes two input parameters:\n",
    "\n",
    "- **csvFile** - The location of the filename to retrieve information from.\n",
    "- **columnIndex** - The column of the file to search through.\n",
    "\n",
    "The file is first opened and the directory of the images is removed."
   ]
  },
  {
   "cell_type": "code",
   "execution_count": null,
   "metadata": {},
   "outputs": [],
   "source": [
    "annPathTrain=\"../Object_Detection_Dataset/CSV/Train/labels.csv\"\n",
    "annPathTest=\"../Object_Detection_Dataset/CSV/Test/labels.csv\"\n",
    "\n",
    "#Defining a function to remove the directory name from a CSV file's column\n",
    "def removeDirectoryFromColumn(csvFile, columnIndex):\n",
    "    #Reading the CSV file and storing its contents\n",
    "    with open(csvFile, 'r') as file:\n",
    "        reader = csv.reader(file)\n",
    "        rows = list(reader)\n",
    "\n",
    "    #Removing the directory name from each value in the specified column\n",
    "    for row in rows:\n",
    "        row[columnIndex] = os.path.basename(row[columnIndex])\n",
    "\n",
    "    #Writing the modified data back to the CSV file\n",
    "    with open(csvFile, 'w', newline='') as file:\n",
    "        writer = csv.writer(file)\n",
    "        writer.writerows(rows)\n",
    "\n",
    "removeDirectoryFromColumn(annPathTrain, 0)\n",
    "removeDirectoryFromColumn(annPathTest, 0)"
   ]
  }
 ],
 "metadata": {
  "kernelspec": {
   "display_name": "retinanetfyp",
   "language": "python",
   "name": "python3"
  },
  "language_info": {
   "codemirror_mode": {
    "name": "ipython",
    "version": 3
   },
   "file_extension": ".py",
   "mimetype": "text/x-python",
   "name": "python",
   "nbconvert_exporter": "python",
   "pygments_lexer": "ipython3",
   "version": "3.9.18"
  }
 },
 "nbformat": 4,
 "nbformat_minor": 2
}
