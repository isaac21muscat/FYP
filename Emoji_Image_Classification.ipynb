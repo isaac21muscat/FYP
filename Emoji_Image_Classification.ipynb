{
 "cells": [
  {
   "cell_type": "markdown",
   "metadata": {},
   "source": [
    "# Final Year Project - Times of Malta Image Analysis Section"
   ]
  },
  {
   "cell_type": "markdown",
   "metadata": {},
   "source": [
    "## Overview\n",
    "\n",
    "In this section, the images created using the Emoji Inset Creator notebook are used to train a binary classifier model to differentiate between an image with an emoji and an image without one."
   ]
  },
  {
   "cell_type": "markdown",
   "metadata": {},
   "source": [
    "## Installing / Importing Packages\n",
    "\n",
    "The following packages are required for the notebook to work."
   ]
  },
  {
   "cell_type": "code",
   "execution_count": 1,
   "metadata": {},
   "outputs": [],
   "source": [
    "#Importing necessary packages\n",
    "import matplotlib.pyplot as plt\n",
    "import numpy as np\n",
    "import tensorflow as tf\n",
    "import glob\n",
    "import pandas as pd\n",
    "from PIL import Image\n",
    "from tensorflow import keras\n",
    "from tensorflow.keras import layers\n",
    "from tensorflow.keras.models import Sequential"
   ]
  },
  {
   "cell_type": "code",
   "execution_count": 2,
   "metadata": {},
   "outputs": [],
   "source": [
    "# imagePaths = ['TestI', 'Test Images/EmojiImagesOne']"
   ]
  },
  {
   "cell_type": "code",
   "execution_count": 3,
   "metadata": {},
   "outputs": [],
   "source": [
    "# #Setting Counters\n",
    "# insetCounter = 0\n",
    "# notInsetCounter = 0\n",
    "\n",
    "# #For each path\n",
    "# for imagePath in imagePaths:\n",
    "\n",
    "#     #For each image and its corresponding Inset attribute value in the csv file\n",
    "#     for image in glob.glob(imagePath + \"/*\"):\n",
    "        \n",
    "#         #Open the image\n",
    "#         image = Image.open(image)\n",
    "\n",
    "#         #If it is Inset\n",
    "#         if imagePath == 'COCODataset/validation/data':\n",
    "#             #Save the image in the inset folder\n",
    "#             image.save('.\\\\Emoji_Classification\\\\notinset\\\\Image'+str(insetCounter)+\".jpg\")\n",
    "#             insetCounter = insetCounter + 1\n",
    "#         else:\n",
    "#             #Save the image in the notinset folder\n",
    "#             image.save('.\\\\Emoji_Classification\\\\inset\\\\Image'+str(notInsetCounter)+\".jpg\")\n",
    "#             notInsetCounter = notInsetCounter + 1"
   ]
  },
  {
   "cell_type": "markdown",
   "metadata": {},
   "source": [
    "## Setting up Parameters\n",
    "\n",
    "Setting parameter values to be used when training the model."
   ]
  },
  {
   "cell_type": "code",
   "execution_count": 4,
   "metadata": {},
   "outputs": [],
   "source": [
    "#Setting parameters to be used\n",
    "batchSize = 32\n",
    "imageHeight = 180\n",
    "imageWidth = 180\n",
    "\n",
    "#Path from where to retrieve images\n",
    "dataDirectory = \".\\\\Test Images\\\\ClassificationImages\""
   ]
  },
  {
   "cell_type": "markdown",
   "metadata": {},
   "source": [
    "## Splitting Images into Training Set and Validation Set\n",
    "\n",
    "Using the image_dataset_from_directory() function provided by Tensorflow, the training set and validation set are created and saved into their respective variables."
   ]
  },
  {
   "cell_type": "code",
   "execution_count": 5,
   "metadata": {},
   "outputs": [
    {
     "name": "stdout",
     "output_type": "stream",
     "text": [
      "Found 10000 files belonging to 2 classes.\n",
      "Using 8000 files for training.\n"
     ]
    }
   ],
   "source": [
    "#Getting Training Set\n",
    "trainingSet = tf.keras.utils.image_dataset_from_directory(\n",
    "  dataDirectory,\n",
    "  validation_split = 0.2,\n",
    "  subset = \"training\",\n",
    "  seed = 123,\n",
    "  image_size = (imageHeight, imageWidth),\n",
    "  batch_size = batchSize)"
   ]
  },
  {
   "cell_type": "code",
   "execution_count": 6,
   "metadata": {},
   "outputs": [
    {
     "name": "stdout",
     "output_type": "stream",
     "text": [
      "Found 10000 files belonging to 2 classes.\n",
      "Using 2000 files for validation.\n"
     ]
    }
   ],
   "source": [
    "#Getting Validation Set\n",
    "validationSet = tf.keras.utils.image_dataset_from_directory(\n",
    "  dataDirectory,\n",
    "  validation_split = 0.2,\n",
    "  subset = \"validation\",\n",
    "  seed = 123,\n",
    "  image_size = (imageHeight, imageWidth),\n",
    "  batch_size = batchSize)"
   ]
  },
  {
   "cell_type": "markdown",
   "metadata": {},
   "source": [
    "## Displaying Class Names\n",
    "\n",
    "The class names found are displayed to the user."
   ]
  },
  {
   "cell_type": "code",
   "execution_count": 7,
   "metadata": {},
   "outputs": [
    {
     "name": "stdout",
     "output_type": "stream",
     "text": [
      "['NormalImages', 'OneEmojiImages']\n"
     ]
    }
   ],
   "source": [
    "#Retrieving Class Names and displaying them\n",
    "classNames = trainingSet.class_names\n",
    "print(classNames)"
   ]
  },
  {
   "cell_type": "markdown",
   "metadata": {},
   "source": [
    "## Configuring Dataset for Performance Issues\n",
    "\n",
    "The dataset is cached to improve performance."
   ]
  },
  {
   "cell_type": "code",
   "execution_count": 8,
   "metadata": {},
   "outputs": [],
   "source": [
    "#Configuring Dataset and caching it\n",
    "AUTOTUNE = tf.data.AUTOTUNE\n",
    "\n",
    "trainingSet = trainingSet.cache().shuffle(1000).prefetch(buffer_size=AUTOTUNE)\n",
    "validationSet = validationSet.cache().prefetch(buffer_size=AUTOTUNE)"
   ]
  },
  {
   "cell_type": "markdown",
   "metadata": {},
   "source": [
    "## Normalising Data\n",
    "\n",
    "The Training Set RGB channel values are normalised from [0, 255] to [0, 1]."
   ]
  },
  {
   "cell_type": "code",
   "execution_count": 9,
   "metadata": {},
   "outputs": [],
   "source": [
    "#Normalising the data\n",
    "normalisationLayer = layers.Rescaling(1./255)\n",
    "normalisedSet = trainingSet.map(lambda x, y: (normalisationLayer(x), y))\n",
    "imageBatch, labelsBatch = next(iter(normalisedSet))\n",
    "firstImage = imageBatch[0]"
   ]
  },
  {
   "cell_type": "markdown",
   "metadata": {},
   "source": [
    "## Creating the Model\n",
    "\n",
    "The Keras Sequential model includes three convolution blocks, each followed by a max pooling layer. On top, there's a fully-connected layer with 128 units activated by ReLU."
   ]
  },
  {
   "cell_type": "code",
   "execution_count": 10,
   "metadata": {},
   "outputs": [],
   "source": [
    "#Getting number of classes\n",
    "numberOfClasses = len(classNames)\n",
    "\n",
    "#Creating Keras Sequential Model\n",
    "model = Sequential([\n",
    "  layers.Rescaling(1./255, input_shape=(imageHeight, imageWidth, 3)),\n",
    "  layers.Conv2D(16, 3, padding='same', activation='relu'),\n",
    "  layers.MaxPooling2D(),\n",
    "  layers.Conv2D(32, 3, padding='same', activation='relu'),\n",
    "  layers.MaxPooling2D(),\n",
    "  layers.Conv2D(64, 3, padding='same', activation='relu'),\n",
    "  layers.MaxPooling2D(),\n",
    "  layers.Flatten(),\n",
    "  layers.Dense(128, activation='relu'),\n",
    "  layers.Dense(numberOfClasses)\n",
    "])"
   ]
  },
  {
   "cell_type": "markdown",
   "metadata": {},
   "source": [
    "## Compiling the Model\n",
    "\n",
    "The compile function is called on the model."
   ]
  },
  {
   "cell_type": "code",
   "execution_count": 11,
   "metadata": {},
   "outputs": [],
   "source": [
    "#Compiling the model\n",
    "model.compile(optimizer='adam',\n",
    "              loss=tf.keras.losses.SparseCategoricalCrossentropy(from_logits=True),\n",
    "              metrics=['accuracy'])"
   ]
  },
  {
   "cell_type": "markdown",
   "metadata": {},
   "source": [
    "## Model Summary\n",
    "\n",
    "Displaying a summary of the model."
   ]
  },
  {
   "cell_type": "code",
   "execution_count": 12,
   "metadata": {},
   "outputs": [
    {
     "name": "stdout",
     "output_type": "stream",
     "text": [
      "Model: \"sequential\"\n",
      "_________________________________________________________________\n",
      " Layer (type)                Output Shape              Param #   \n",
      "=================================================================\n",
      " rescaling_1 (Rescaling)     (None, 180, 180, 3)       0         \n",
      "                                                                 \n",
      " conv2d (Conv2D)             (None, 180, 180, 16)      448       \n",
      "                                                                 \n",
      " max_pooling2d (MaxPooling2  (None, 90, 90, 16)        0         \n",
      " D)                                                              \n",
      "                                                                 \n",
      " conv2d_1 (Conv2D)           (None, 90, 90, 32)        4640      \n",
      "                                                                 \n",
      " max_pooling2d_1 (MaxPoolin  (None, 45, 45, 32)        0         \n",
      " g2D)                                                            \n",
      "                                                                 \n",
      " conv2d_2 (Conv2D)           (None, 45, 45, 64)        18496     \n",
      "                                                                 \n",
      " max_pooling2d_2 (MaxPoolin  (None, 22, 22, 64)        0         \n",
      " g2D)                                                            \n",
      "                                                                 \n",
      " flatten (Flatten)           (None, 30976)             0         \n",
      "                                                                 \n",
      " dense (Dense)               (None, 128)               3965056   \n",
      "                                                                 \n",
      " dense_1 (Dense)             (None, 2)                 258       \n",
      "                                                                 \n",
      "=================================================================\n",
      "Total params: 3988898 (15.22 MB)\n",
      "Trainable params: 3988898 (15.22 MB)\n",
      "Non-trainable params: 0 (0.00 Byte)\n",
      "_________________________________________________________________\n"
     ]
    }
   ],
   "source": [
    "#Displaying Model Summary\n",
    "model.summary()"
   ]
  },
  {
   "cell_type": "markdown",
   "metadata": {},
   "source": [
    "## Training the Model\n",
    "\n",
    "The model is now trained for a number of epochs using the training set. The validation set is also used to calculated the accuracy and loss."
   ]
  },
  {
   "cell_type": "code",
   "execution_count": 13,
   "metadata": {},
   "outputs": [
    {
     "name": "stdout",
     "output_type": "stream",
     "text": [
      "Epoch 1/50\n",
      "250/250 [==============================] - 74s 291ms/step - loss: 0.4970 - accuracy: 0.7715 - val_loss: 0.3280 - val_accuracy: 0.8675\n",
      "Epoch 2/50\n",
      "250/250 [==============================] - 68s 273ms/step - loss: 0.2872 - accuracy: 0.8884 - val_loss: 0.2328 - val_accuracy: 0.9075\n",
      "Epoch 3/50\n",
      "250/250 [==============================] - 69s 274ms/step - loss: 0.2028 - accuracy: 0.9240 - val_loss: 0.1844 - val_accuracy: 0.9285\n",
      "Epoch 4/50\n",
      "250/250 [==============================] - 69s 278ms/step - loss: 0.1480 - accuracy: 0.9452 - val_loss: 0.1535 - val_accuracy: 0.9430\n",
      "Epoch 5/50\n",
      "250/250 [==============================] - 63s 252ms/step - loss: 0.1069 - accuracy: 0.9632 - val_loss: 0.1385 - val_accuracy: 0.9505\n",
      "Epoch 6/50\n",
      "250/250 [==============================] - 69s 275ms/step - loss: 0.0783 - accuracy: 0.9712 - val_loss: 0.1559 - val_accuracy: 0.9495\n",
      "Epoch 7/50\n",
      "250/250 [==============================] - 70s 281ms/step - loss: 0.0623 - accuracy: 0.9751 - val_loss: 0.1594 - val_accuracy: 0.9525\n",
      "Epoch 8/50\n",
      "250/250 [==============================] - 66s 265ms/step - loss: 0.0459 - accuracy: 0.9847 - val_loss: 0.1441 - val_accuracy: 0.9585\n",
      "Epoch 9/50\n",
      "250/250 [==============================] - 66s 264ms/step - loss: 0.0355 - accuracy: 0.9869 - val_loss: 0.2166 - val_accuracy: 0.9450\n",
      "Epoch 10/50\n",
      "250/250 [==============================] - 75s 299ms/step - loss: 0.0257 - accuracy: 0.9908 - val_loss: 0.2238 - val_accuracy: 0.9560\n",
      "Epoch 11/50\n",
      "250/250 [==============================] - 67s 267ms/step - loss: 0.0222 - accuracy: 0.9921 - val_loss: 0.2274 - val_accuracy: 0.9405\n",
      "Epoch 12/50\n",
      "250/250 [==============================] - 73s 292ms/step - loss: 0.0195 - accuracy: 0.9934 - val_loss: 0.2352 - val_accuracy: 0.9535\n",
      "Epoch 13/50\n",
      "250/250 [==============================] - 67s 266ms/step - loss: 0.0203 - accuracy: 0.9930 - val_loss: 0.2097 - val_accuracy: 0.9530\n",
      "Epoch 14/50\n",
      "250/250 [==============================] - 71s 283ms/step - loss: 0.0204 - accuracy: 0.9929 - val_loss: 0.2566 - val_accuracy: 0.9555\n",
      "Epoch 15/50\n",
      "250/250 [==============================] - 73s 292ms/step - loss: 0.0156 - accuracy: 0.9945 - val_loss: 0.2288 - val_accuracy: 0.9590\n",
      "Epoch 16/50\n",
      "250/250 [==============================] - 65s 259ms/step - loss: 0.0073 - accuracy: 0.9976 - val_loss: 0.3108 - val_accuracy: 0.9485\n",
      "Epoch 17/50\n",
      "250/250 [==============================] - 64s 255ms/step - loss: 0.0082 - accuracy: 0.9975 - val_loss: 0.3198 - val_accuracy: 0.9485\n",
      "Epoch 18/50\n",
      "250/250 [==============================] - 64s 255ms/step - loss: 0.0185 - accuracy: 0.9942 - val_loss: 0.2664 - val_accuracy: 0.9535\n",
      "Epoch 19/50\n",
      "250/250 [==============================] - 63s 252ms/step - loss: 0.0146 - accuracy: 0.9955 - val_loss: 0.2700 - val_accuracy: 0.9585\n",
      "Epoch 20/50\n",
      "250/250 [==============================] - 64s 255ms/step - loss: 0.0068 - accuracy: 0.9975 - val_loss: 0.3145 - val_accuracy: 0.9525\n",
      "Epoch 21/50\n",
      "250/250 [==============================] - 63s 252ms/step - loss: 0.0131 - accuracy: 0.9954 - val_loss: 0.2391 - val_accuracy: 0.9575\n",
      "Epoch 22/50\n",
      "250/250 [==============================] - 63s 254ms/step - loss: 0.0155 - accuracy: 0.9959 - val_loss: 0.3379 - val_accuracy: 0.9470\n",
      "Epoch 23/50\n",
      "250/250 [==============================] - 63s 253ms/step - loss: 0.0055 - accuracy: 0.9980 - val_loss: 0.3175 - val_accuracy: 0.9470\n",
      "Epoch 24/50\n",
      "250/250 [==============================] - 63s 254ms/step - loss: 0.0097 - accuracy: 0.9973 - val_loss: 0.3208 - val_accuracy: 0.9560\n",
      "Epoch 25/50\n",
      "250/250 [==============================] - 62s 248ms/step - loss: 0.0041 - accuracy: 0.9987 - val_loss: 0.3309 - val_accuracy: 0.9535\n",
      "Epoch 26/50\n",
      "250/250 [==============================] - 60s 242ms/step - loss: 0.0047 - accuracy: 0.9983 - val_loss: 0.2723 - val_accuracy: 0.9570\n",
      "Epoch 27/50\n",
      "250/250 [==============================] - 61s 244ms/step - loss: 0.0042 - accuracy: 0.9983 - val_loss: 0.3322 - val_accuracy: 0.9530\n",
      "Epoch 28/50\n",
      "250/250 [==============================] - 61s 244ms/step - loss: 0.0068 - accuracy: 0.9975 - val_loss: 0.4198 - val_accuracy: 0.9440\n",
      "Epoch 29/50\n",
      "250/250 [==============================] - 61s 244ms/step - loss: 0.0234 - accuracy: 0.9926 - val_loss: 0.3475 - val_accuracy: 0.9495\n",
      "Epoch 30/50\n",
      "250/250 [==============================] - 61s 244ms/step - loss: 0.0144 - accuracy: 0.9960 - val_loss: 0.3845 - val_accuracy: 0.9520\n",
      "Epoch 31/50\n",
      "250/250 [==============================] - 61s 245ms/step - loss: 0.0030 - accuracy: 0.9987 - val_loss: 0.3264 - val_accuracy: 0.9550\n",
      "Epoch 32/50\n",
      "250/250 [==============================] - 61s 246ms/step - loss: 0.0015 - accuracy: 0.9991 - val_loss: 0.3658 - val_accuracy: 0.9560\n",
      "Epoch 33/50\n",
      "250/250 [==============================] - 61s 244ms/step - loss: 0.0012 - accuracy: 0.9994 - val_loss: 0.4520 - val_accuracy: 0.9490\n",
      "Epoch 34/50\n",
      "250/250 [==============================] - 61s 245ms/step - loss: 0.0012 - accuracy: 0.9994 - val_loss: 0.4105 - val_accuracy: 0.9550\n",
      "Epoch 35/50\n",
      "250/250 [==============================] - 61s 244ms/step - loss: 0.0012 - accuracy: 0.9994 - val_loss: 0.4068 - val_accuracy: 0.9530\n",
      "Epoch 36/50\n",
      "250/250 [==============================] - 68s 273ms/step - loss: 0.0050 - accuracy: 0.9976 - val_loss: 0.4997 - val_accuracy: 0.9505\n",
      "Epoch 37/50\n",
      "250/250 [==============================] - 69s 278ms/step - loss: 0.0342 - accuracy: 0.9908 - val_loss: 0.4186 - val_accuracy: 0.9345\n",
      "Epoch 38/50\n",
      "250/250 [==============================] - 67s 267ms/step - loss: 0.0137 - accuracy: 0.9960 - val_loss: 0.2856 - val_accuracy: 0.9535\n",
      "Epoch 39/50\n",
      "250/250 [==============================] - 71s 284ms/step - loss: 0.0059 - accuracy: 0.9983 - val_loss: 0.3346 - val_accuracy: 0.9525\n",
      "Epoch 40/50\n",
      "250/250 [==============================] - 65s 258ms/step - loss: 0.0053 - accuracy: 0.9985 - val_loss: 0.3118 - val_accuracy: 0.9585\n",
      "Epoch 41/50\n",
      "250/250 [==============================] - 69s 275ms/step - loss: 0.0010 - accuracy: 0.9996 - val_loss: 0.3749 - val_accuracy: 0.9570\n",
      "Epoch 42/50\n",
      "250/250 [==============================] - 66s 265ms/step - loss: 0.0012 - accuracy: 0.9996 - val_loss: 0.3805 - val_accuracy: 0.9555\n",
      "Epoch 43/50\n",
      "250/250 [==============================] - 70s 279ms/step - loss: 0.0149 - accuracy: 0.9962 - val_loss: 0.2892 - val_accuracy: 0.9390\n",
      "Epoch 44/50\n",
      "250/250 [==============================] - 71s 283ms/step - loss: 0.0081 - accuracy: 0.9983 - val_loss: 0.3669 - val_accuracy: 0.9550\n",
      "Epoch 45/50\n",
      "250/250 [==============================] - 66s 265ms/step - loss: 0.0015 - accuracy: 0.9995 - val_loss: 0.3945 - val_accuracy: 0.9570\n",
      "Epoch 46/50\n",
      "250/250 [==============================] - 70s 280ms/step - loss: 0.0017 - accuracy: 0.9992 - val_loss: 0.3832 - val_accuracy: 0.9580\n",
      "Epoch 47/50\n",
      "250/250 [==============================] - 70s 280ms/step - loss: 0.0017 - accuracy: 0.9990 - val_loss: 0.3888 - val_accuracy: 0.9580\n",
      "Epoch 48/50\n",
      "250/250 [==============================] - 69s 275ms/step - loss: 0.0015 - accuracy: 0.9996 - val_loss: 0.3846 - val_accuracy: 0.9595\n",
      "Epoch 49/50\n",
      "250/250 [==============================] - 70s 280ms/step - loss: 6.4441e-04 - accuracy: 0.9996 - val_loss: 0.4239 - val_accuracy: 0.9600\n",
      "Epoch 50/50\n",
      "250/250 [==============================] - 66s 263ms/step - loss: 4.5282e-04 - accuracy: 0.9998 - val_loss: 0.4509 - val_accuracy: 0.9585\n"
     ]
    }
   ],
   "source": [
    "#Setting number of epochs to occur\n",
    "epochs = 50\n",
    "\n",
    "#Training the Model\n",
    "history = model.fit(\n",
    "  trainingSet,\n",
    "  validation_data = validationSet,\n",
    "  epochs = epochs\n",
    ")"
   ]
  },
  {
   "cell_type": "markdown",
   "metadata": {},
   "source": [
    "## Displaying Accuracy and Loss Graphs\n",
    "\n",
    "The Training and Validation Graphs are displayed showing the change in accuracy and loss over each epoch."
   ]
  },
  {
   "cell_type": "code",
   "execution_count": 14,
   "metadata": {},
   "outputs": [
    {
     "data": {
      "image/png": "[encoded data removed]",
      "text/plain": [
       "<Figure size 800x800 with 2 Axes>"
      ]
     },
     "metadata": {},
     "output_type": "display_data"
    }
   ],
   "source": [
    "#Retrieving accuracy and loss of both the training set and validation set\n",
    "accuracy = history.history['accuracy']\n",
    "validationAccuracy = history.history['val_accuracy']\n",
    "loss = history.history['loss']\n",
    "validationLoss = history.history['val_loss']\n",
    "\n",
    "#Retrieving the range of epochs\n",
    "epochsRange = range(epochs)\n",
    "\n",
    "#Plotting the Graphs\n",
    "plt.figure(figsize=(8, 8))\n",
    "plt.subplot(1, 2, 1)\n",
    "plt.plot(epochsRange, accuracy, label='Training Accuracy')\n",
    "plt.plot(epochsRange, validationAccuracy, label='Validation Accuracy')\n",
    "plt.legend(loc='lower right')\n",
    "plt.xlabel(\"Epochs\")\n",
    "plt.ylabel(\"Accuracy\")\n",
    "plt.title('Training and Validation Accuracy')\n",
    "\n",
    "plt.subplot(1, 2, 2)\n",
    "plt.plot(epochsRange, loss, label='Training Loss')\n",
    "plt.plot(epochsRange, validationLoss, label='Validation Loss')\n",
    "plt.legend(loc='upper right')\n",
    "plt.xlabel(\"Epochs\")\n",
    "plt.ylabel(\"Loss\")\n",
    "plt.title('Training and Validation Loss')\n",
    "plt.show()"
   ]
  }
 ],
 "metadata": {
  "kernelspec": {
   "display_name": "fyp",
   "language": "python",
   "name": "python3"
  },
  "language_info": {
   "codemirror_mode": {
    "name": "ipython",
    "version": 3
   },
   "file_extension": ".py",
   "mimetype": "text/x-python",
   "name": "python",
   "nbconvert_exporter": "python",
   "pygments_lexer": "ipython3",
   "version": "3.11.4"
  },
  "orig_nbformat": 4
 },
 "nbformat": 4,
 "nbformat_minor": 2
}
