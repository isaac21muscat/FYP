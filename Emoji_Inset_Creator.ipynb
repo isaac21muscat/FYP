{
 "cells": [
  {
   "cell_type": "markdown",
   "id": "dc8aaf4e",
   "metadata": {},
   "source": [
    "# Final Year Project - Emoji Inset Creator Section"
   ]
  },
  {
   "cell_type": "markdown",
   "id": "b61a4ab8",
   "metadata": {},
   "source": [
    "## Overview\n",
    "\n",
    "In this section, a dataset is created containing three different types of images:\n",
    "\n",
    "- Images with one emoji\n",
    "- Images with two emojis\n",
    "- Images with three emojis\n",
    "\n",
    "The original images and emojis are retrieved and stored in dictionaries. The emojis are then added to the images and the resulting images are then saved in the EmojiImagesOne, EmojiImagesTwo and EmojiImagesThree folders respectively."
   ]
  },
  {
   "cell_type": "markdown",
   "id": "9dc2a204",
   "metadata": {},
   "source": [
    "## Installing / Importing Packages\n",
    "\n",
    "The following packages are required for the notebook to work."
   ]
  },
  {
   "cell_type": "code",
   "execution_count": null,
   "id": "9dc28033",
   "metadata": {},
   "outputs": [],
   "source": [
    "#Installing and Importing Packages\n",
    "from matplotlib import pyplot as plt\n",
    "import cv2\n",
    "import os\n",
    "import math\n",
    "from random import *\n",
    "import tensorflow as tf\n",
    "import tensorflow_addons as tfa\n",
    "import json"
   ]
  },
  {
   "cell_type": "markdown",
   "id": "5da7bda6",
   "metadata": {},
   "source": [
    "## Creating Dictionary of Images\n",
    "\n",
    "The images are retrieved from the Stock Images folder and stored in the images dictionary. Each image is also displayed to the user."
   ]
  },
  {
   "cell_type": "code",
   "execution_count": null,
   "id": "ccf5a160",
   "metadata": {},
   "outputs": [],
   "source": [
    "#Creating dictionary for images\n",
    "images = {}\n",
    "counter = 1\n",
    "\n",
    "#Prompting User to Choose Dataset\n",
    "datasetChosen = input(\"Which Dataset do you want to use: \\n1. COCO Dataset\\n2. COTS Dataset\\n\")\n",
    "\n",
    "match datasetChosen:\n",
    "    case 1:\n",
    "        #Loading COCO Dataset\n",
    "        for image in os.listdir(\"COCODataset/validation/data/\"):\n",
    "            images[\"Image\" + str(counter)] = cv2.imread(\"COCODataset/validation/data/\" + image)[:,:,::-1]\n",
    "            cv2.imwrite(os.path.join(\"Test Images/ClassificationImages/NormalImages/Image\" + str(counter)), cv2.cvtColor(images[\"Image\" + str(counter)], cv2.COLOR_BGR2RGB))\n",
    "            counter += 1\n",
    "    case 2:\n",
    "        #Loading COTS Dataset\n",
    "        for image in os.listdir(\"Test Images/NormalImages/\"):\n",
    "            images[\"Image\" + str(counter)] = cv2.imread(\"Test Images/NormalImages/\" + image)[:,:,::-1]\n",
    "            cv2.imwrite(os.path.join(\"Test Images/ClassificationImages/NormalImages/Image\" + str(counter)), cv2.cvtColor(images[\"Image\" + str(counter)], cv2.COLOR_BGR2RGB))\n",
    "            counter += 1\n",
    "    case _:\n",
    "        #Error Checking\n",
    "        raise ValueError(\"Invalid Input\")\n"
   ]
  },
  {
   "cell_type": "markdown",
   "id": "589eaae4",
   "metadata": {},
   "source": [
    "## Creating Dictionary of Emojis\n",
    "\n",
    "The emojis are retrieved from the Stock Emojis folder. Prior to storing the emoji in the dictionary, a threshold is used to remove the background. Each emoji is also displayed to the user."
   ]
  },
  {
   "cell_type": "code",
   "execution_count": null,
   "id": "a4b1d06d",
   "metadata": {},
   "outputs": [],
   "source": [
    "#Create dictionary for emojis\n",
    "emojis = {}\n",
    "#Iterate through each emoji in the folder\n",
    "for emoji in os.listdir(\"Test Images/Stock Emojis\"):\n",
    "    \n",
    "    #Save emoji in temporary variable\n",
    "    sourceEmoji = cv2.imread(\"Test Images/Stock Emojis/\" + emoji)[:,:,::-1]\n",
    "    #Convert emoji to grayscale\n",
    "    grayEmoji = cv2.cvtColor(sourceEmoji, cv2.COLOR_BGR2GRAY)\n",
    "    #Threshold emoji\n",
    "    _, alpha = cv2.threshold(grayEmoji, 0, 255, cv2.THRESH_BINARY)\n",
    "    #Split channels\n",
    "    b, g, r = cv2.split(sourceEmoji)\n",
    "    #Create list of colour channels and alpha\n",
    "    rgba = [b, g, r, alpha]\n",
    "    #Merge list into multi-coloured image\n",
    "    mergedEmoji = cv2.merge(rgba, 4)\n",
    "    #Resize image by half its original size\n",
    "    resizedEmoji = cv2.resize(mergedEmoji, (0,0), fx=0.5, fy=0.5) \n",
    "    #Add emoji to dictionary\n",
    "    emojis[emoji] = resizedEmoji"
   ]
  },
  {
   "cell_type": "markdown",
   "id": "08b119a2",
   "metadata": {},
   "source": [
    "## Inset Images Function\n",
    "\n",
    "This function takes four input parameters:\n",
    "\n",
    "- **currentImages** - The list of images.\n",
    "- **emojiImages** - The list of emojis.\n",
    "- **emojiDictionary** - The dictionary to be filled in with inset images.\n",
    "- **numOfEmojis** - The number of emojis to be inset into each image.\n",
    "\n",
    "The function iterates through each image in the given list and depending on the numOfEmojis value, takes a random emoji from the list rotates it and places it on the current image. Also, offset values are used so that the emoji is always completely in the image. Each resulting image is then displayed to the user."
   ]
  },
  {
   "cell_type": "code",
   "execution_count": null,
   "id": "a19a277b",
   "metadata": {},
   "outputs": [],
   "source": [
    "#Function to create inset images\n",
    "def emojiInsetFunc(currentImages, emojiImages, emojiDictionary, numOfEmojis, directory, jsonFile):\n",
    "    #Loop through each image in given list\n",
    "    for image in currentImages:\n",
    "        #Set the current image in the emojiDictionary to a copy of that in the currentImages list\n",
    "        emojiDictionary[image] = currentImages[image].copy()\n",
    "        #Loop for the number of times indicated by the numOfEmojis value\n",
    "        for emojiNum in range(numOfEmojis):\n",
    "            #Select random emoji from the list\n",
    "            emoji = choice(list(emojiImages.values()))\n",
    "            #Rotate the emoji and typecast it to float32\n",
    "            emoji = tfa.image.rotate(emoji, randint(0, 360) * math.pi / 180, interpolation='BILINEAR')\n",
    "            emoji = tf.cast(emoji, tf.float32)\n",
    "            #Stretching the emoji\n",
    "            emoji = tf.image.resize(emoji, size=(int(emoji.shape[0] * uniform(0.5, 1.5)), int(emoji.shape[1] * uniform(0.5, 1.5))))\n",
    "            #Resizing the emoji\n",
    "            resizingFactor = uniform(0.5, 5)\n",
    "            emoji = tf.image.resize(emoji, size=(int(emoji.shape[0] * resizingFactor), int(emoji.shape[1] * resizingFactor)))\n",
    "            #Checking if the emoji's height or width is larger than the original image itself, if so, shrink the emoji\n",
    "            while (currentImages[image].shape[0]-emoji.shape[0] <= 0):\n",
    "                emoji = tf.image.resize(emoji, size=(int(emoji.shape[0] * 0.5), int(emoji.shape[1])))\n",
    "            while (currentImages[image].shape[1]-emoji.shape[1] <= 0):\n",
    "                emoji = tf.image.resize(emoji, size=(int(emoji.shape[0]), int(emoji.shape[1] * 0.5)))\n",
    "            #Creating offsets\n",
    "            yOffset = randint(0, currentImages[image].shape[0]-emoji.shape[0])\n",
    "            xOffset = randint(0, currentImages[image].shape[1]-emoji.shape[1])\n",
    "            y1, y2 = yOffset, yOffset + emoji.shape[0]\n",
    "            x1, x2 = xOffset, xOffset + emoji.shape[1]\n",
    "\n",
    "            #Setting JSON Data\n",
    "            jsonData = {\n",
    "                \"file_name\": image,\n",
    "                \"x\": x1,\n",
    "                \"y\": y2,\n",
    "                \"height\": emoji.shape[0],\n",
    "                \"width\": emoji.shape[1],\n",
    "            }\n",
    "\n",
    "            #Opening JSON file\n",
    "            with open(jsonFile,'r+') as file:\n",
    "                #Appending data to JSON file\n",
    "                file_data = json.load(file)\n",
    "                file_data.append(jsonData)\n",
    "                #Setting file pointer position back to beginning of the file\n",
    "                file.seek(0)\n",
    "                #Saving the file\n",
    "                json.dump(file_data, file, indent = 4)\n",
    "\n",
    "\n",
    "            #Retrieve alpha channel\n",
    "            alphaS = emoji[:, :, 3] / 255.0\n",
    "            alphaL = 1.0 - alphaS\n",
    "            #Loop through each channel\n",
    "            for channel in range(0, 3):\n",
    "                #Add emoji to image\n",
    "                emojiDictionary[image][y1:y2, x1:x2, channel] = (alphaS * emoji[:, :, channel] + alphaL * emojiDictionary[image][y1:y2, x1:x2, channel])\n",
    "        #Save Image into folder\n",
    "        cv2.imwrite(os.path.join(directory, image + \".jpeg\"), cv2.cvtColor(emojiDictionary[image], cv2.COLOR_BGR2RGB))"
   ]
  },
  {
   "cell_type": "markdown",
   "id": "91591579",
   "metadata": {},
   "source": [
    "## Creating Inset Images with one Emoji\n",
    "\n",
    "This cell defines a dictionary which is then filled with inset images with one emoji by calling the emojiInsetFunc function."
   ]
  },
  {
   "cell_type": "code",
   "execution_count": null,
   "id": "9c9fdb92",
   "metadata": {},
   "outputs": [],
   "source": [
    "#Create images with one emoji\n",
    "emojiImagesOne = {}\n",
    "emojiInsetFunc(images, emojis, emojiImagesOne, 1, \"Test Images/ClassificationImages/OneEmojiImages\", \"Test Images/EmojiDataOne.json\")"
   ]
  },
  {
   "cell_type": "markdown",
   "id": "725ed670",
   "metadata": {},
   "source": [
    "## Creating Inset Images with two Emojis\n",
    "\n",
    "This cell defines a dictionary which is then filled with inset images with two emojis by calling the emojiInsetFunc function."
   ]
  },
  {
   "cell_type": "code",
   "execution_count": null,
   "id": "6ba5b53b",
   "metadata": {},
   "outputs": [],
   "source": [
    "#Create images with two emojis\n",
    "emojiImagesTwo = {}\n",
    "emojiInsetFunc(images, emojis, emojiImagesTwo, 2, \"Test Images/ClassificationImages/TwoEmojiImages\", \"Test Images/EmojiDataTwo.json\")"
   ]
  },
  {
   "cell_type": "markdown",
   "id": "736fe179",
   "metadata": {},
   "source": [
    "## Creating Inset Images with three Emojis\n",
    "\n",
    "This cell defines a dictionary which is then filled with inset images with three emojis by calling the emojiInsetFunc function."
   ]
  },
  {
   "cell_type": "code",
   "execution_count": null,
   "id": "631478b8",
   "metadata": {},
   "outputs": [],
   "source": [
    "#Create images with three emojis\n",
    "emojiImagesThree = {}\n",
    "emojiInsetFunc(images, emojis, emojiImagesThree, 3, \"Test Images/ClassificationImages/ThreeEmojiImages\", \"Test Images/EmojiDataThree.json\")"
   ]
  },
  {
   "cell_type": "markdown",
   "id": "d182268f",
   "metadata": {},
   "source": [
    "## Saving Images into folders\n",
    "\n",
    "A check is performed to create the folders if they do not exist. Following this, each image is saved into its respective folder."
   ]
  },
  {
   "cell_type": "code",
   "execution_count": null,
   "id": "4c70140b",
   "metadata": {},
   "outputs": [],
   "source": [
    "# #Create a new directory if it does not exist\n",
    "# if not os.path.exists(\"Test Images/EmojiImagesOne/\"):\n",
    "#     os.makedirs(\"Test Images/EmojiImagesOne/\")\n",
    "\n",
    "# #Create a new directory if it does not exist\n",
    "# if not os.path.exists(\"Test Images/EmojiImagesTwo/\"):\n",
    "#     os.makedirs(\"Test Images/EmojiImagesTwo/\")\n",
    "\n",
    "# #Create a new directory if it does not exist\n",
    "# if not os.path.exists(\"Test Images/EmojiImagesThree/\"):\n",
    "#     os.makedirs(\"Test Images/EmojiImagesThree/\")\n",
    "\n",
    "# #For each image in emojiImagesOne, save it into its respective folder\n",
    "# for image in emojiImagesOne:\n",
    "    \n",
    "\n",
    "# #For each image in emojiImagesTwo, save it into its respective folder\n",
    "# for image in emojiImagesTwo:\n",
    "#     cv2.imwrite(os.path.join(\"Test Images/EmojiImagesTwo/\", image), cv2.cvtColor(emojiImagesTwo[image], cv2.COLOR_BGR2RGB))\n",
    "\n",
    "# #For each image in emojiImagesThree, save it into its respective folder    \n",
    "# for image in emojiImagesThree:\n",
    "#     cv2.imwrite(os.path.join(\"Test Images/EmojiImagesThree/\", image), cv2.cvtColor(emojiImagesThree[image], cv2.COLOR_BGR2RGB))"
   ]
  },
  {
   "cell_type": "code",
   "execution_count": null,
   "id": "6f2577b7",
   "metadata": {},
   "outputs": [],
   "source": []
  }
 ],
 "metadata": {
  "kernelspec": {
   "display_name": "Python 3 (ipykernel)",
   "language": "python",
   "name": "python3"
  },
  "language_info": {
   "codemirror_mode": {
    "name": "ipython",
    "version": 3
   },
   "file_extension": ".py",
   "mimetype": "text/x-python",
   "name": "python",
   "nbconvert_exporter": "python",
   "pygments_lexer": "ipython3",
   "version": "3.11.4"
  }
 },
 "nbformat": 4,
 "nbformat_minor": 5
}
