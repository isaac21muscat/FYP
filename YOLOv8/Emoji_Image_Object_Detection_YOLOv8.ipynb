{
 "cells": [
  {
   "cell_type": "markdown",
   "metadata": {},
   "source": [
    "## Installing / Importing Packages\n",
    "\n",
    "The following packages are required for the notebook to work."
   ]
  },
  {
   "cell_type": "code",
   "execution_count": null,
   "metadata": {},
   "outputs": [],
   "source": [
    "#Installing and Importing Packages\n",
    "from ultralytics import YOLO\n",
    "import os\n",
    "import random\n",
    "from PIL import Image as PILImage, ImageDraw, ImageFont\n",
    "from IPython.display import display"
   ]
  },
  {
   "cell_type": "markdown",
   "metadata": {},
   "source": [
    "## Creating YOLOv8 Model\n",
    "\n",
    "The YOLOv8 model is created."
   ]
  },
  {
   "cell_type": "code",
   "execution_count": null,
   "metadata": {},
   "outputs": [],
   "source": [
    "#Creating a YOLO model\n",
    "model = YOLO(\"yolov8s.pt\")"
   ]
  },
  {
   "cell_type": "markdown",
   "metadata": {},
   "source": [
    "## Training YOLOv8 Model\n",
    "\n",
    "The model is trained for 5 epochs on the `data.yaml` file provided.\n",
    "\n",
    "**NOTE: UPDATE THE DATA.YAML FILE PATHS APPROPRIATELY.**"
   ]
  },
  {
   "cell_type": "code",
   "execution_count": null,
   "metadata": {},
   "outputs": [],
   "source": [
    "#Training the model\n",
    "model.train(data=\"./data.yaml\", split='train', epochs=10)"
   ]
  },
  {
   "cell_type": "code",
   "execution_count": null,
   "metadata": {},
   "outputs": [],
   "source": [
    "model.val(split='val')"
   ]
  },
  {
   "cell_type": "code",
   "execution_count": null,
   "metadata": {},
   "outputs": [],
   "source": [
    "model.val(split='test')"
   ]
  },
  {
   "cell_type": "markdown",
   "metadata": {},
   "source": [
    "## Display Example Result of Trained Object Detector Model\n",
    "\n",
    "A random image is selected to test the object detection model on, the predictions are made and the bounding boxes are placed onto the image. The image is then depicted, with the label and confidence added on top the bounding box."
   ]
  },
  {
   "cell_type": "code",
   "execution_count": null,
   "metadata": {},
   "outputs": [],
   "source": [
    "#Getting a list of all image files in the directory\n",
    "imageDirectory = \"../Object_Detection_Dataset/YOLO/Test/images/\"\n",
    "labelDirectory = \"../Object_Detection_Dataset/YOLO/Test/labels/\"\n",
    "\n",
    "#Getting the list of image files\n",
    "imageFiles = [f for f in os.listdir(imageDirectory) if os.path.isfile(os.path.join(imageDirectory, f))]\n",
    "\n",
    "#Selecting a random image file\n",
    "image_file = random.choice(imageFiles)\n",
    "\n",
    "#Getting the path of the image file\n",
    "imagePath = os.path.join(imageDirectory, image_file)\n",
    "\n",
    "#Predicting the bounding boxes for the objects in the image\n",
    "results = model.predict(imagePath)\n",
    "result = results[0]\n",
    "output = []\n",
    "for box in result.boxes:\n",
    "    x1, y1, x2, y2 = [round(x) for x in box.xyxy[0].tolist()]\n",
    "    class_id = box.cls[0].item()\n",
    "    prob = round(box.conf[0].item(), 2)\n",
    "    output.append([x1, y1, x2, y2, result.names[class_id], prob])\n",
    "\n",
    "#Opening the image\n",
    "image = PILImage.open(imagePath)\n",
    "\n",
    "#Creating a draw object\n",
    "draw = ImageDraw.Draw(image)\n",
    "\n",
    "#Specifying font and size for the label\n",
    "font = ImageFont.load_default()\n",
    "\n",
    "#Iterating over each prediction in output\n",
    "for rectangle_info in output:\n",
    "    #Extracting rectangle parameters\n",
    "    x, y, width, height, label, confidence = rectangle_info\n",
    "\n",
    "    #Drawing the rectangle on the image\n",
    "    draw.rectangle([x, y, width, height], outline=\"green\", width=2)\n",
    "\n",
    "    #Placing the label text near the rectangle\n",
    "    label_text = f\"{label} ({confidence:.2f})\"\n",
    "    draw.text((x, y - 15), label_text, fill=\"green\", font=font)\n",
    "\n",
    "#Displaying the image with the rectangles\n",
    "display(image)"
   ]
  },
  {
   "cell_type": "markdown",
   "metadata": {},
   "source": [
    "## Predicting and Saving Predictions\n",
    "\n",
    "This is used to demo the already trained model."
   ]
  },
  {
   "cell_type": "code",
   "execution_count": null,
   "metadata": {},
   "outputs": [],
   "source": [
    "imageDirectory = \"../Object_Detection_Dataset/YOLO/Test/images/\"\n",
    "\n",
    "#Loading the trained model\n",
    "model = YOLO('runs/detect/train/weights/best.pt')\n",
    "\n",
    "#Getting a random test image\n",
    "imageFiles = [f for f in os.listdir(imageDirectory) if os.path.isfile(os.path.join(imageDirectory, f))]\n",
    "image = imageDirectory + random.choice(imageFiles)\n",
    "\n",
    "#Displaying the image\n",
    "display(PILImage.open(image))"
   ]
  },
  {
   "cell_type": "code",
   "execution_count": null,
   "metadata": {},
   "outputs": [],
   "source": [
    "#Predicting the bounding boxes for the objects in the image\n",
    "results = model(image, save=True)"
   ]
  }
 ],
 "metadata": {
  "kernelspec": {
   "display_name": "fyp",
   "language": "python",
   "name": "python3"
  },
  "language_info": {
   "codemirror_mode": {
    "name": "ipython",
    "version": 3
   },
   "file_extension": ".py",
   "mimetype": "text/x-python",
   "name": "python",
   "nbconvert_exporter": "python",
   "pygments_lexer": "ipython3",
   "version": "3.11.4"
  }
 },
 "nbformat": 4,
 "nbformat_minor": 2
}
