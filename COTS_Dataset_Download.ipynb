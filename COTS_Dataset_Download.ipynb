{
 "cells": [
  {
   "cell_type": "code",
   "execution_count": 3,
   "metadata": {},
   "outputs": [],
   "source": [
    "# Packages Install\n",
    "import git\n",
    "import shutil\n",
    "import os"
   ]
  },
  {
   "cell_type": "code",
   "execution_count": 4,
   "metadata": {},
   "outputs": [
    {
     "name": "stdout",
     "output_type": "stream",
     "text": [
      "Repository cloned successfully.\n",
      "Repository cloned successfully.\n"
     ]
    }
   ],
   "source": [
    "# Cloning repository\n",
    "repo_url = 'https://github.com/dylanseychell/COTSDataset.git'\n",
    "repo_dir = 'COTSDataset'  # Directory to clone the repository into\n",
    "\n",
    "# Checking if the repository directory already exists\n",
    "if not os.path.exists(repo_dir):\n",
    "    # Cloning repository\n",
    "    git.Repo.clone_from(repo_url, repo_dir)\n",
    "    print(\"Repository cloned successfully.\")\n",
    "else:\n",
    "    print(\"Repository already cloned.\")\n",
    "\n",
    "# Defining paths\n",
    "part1_single_objects = os.path.join(repo_dir, \"Part 1 - Single Objects\")\n",
    "part2_multiple_objects = os.path.join(repo_dir, \"Part 2 - Multiple Objects\")\n",
    "part3_complex_background = os.path.join(repo_dir, \"Part 3 - Complex Background\")\n",
    "\n",
    "print(\"Repository cloned successfully.\")"
   ]
  }
 ],
 "metadata": {
  "kernelspec": {
   "display_name": "fyp",
   "language": "python",
   "name": "python3"
  },
  "language_info": {
   "codemirror_mode": {
    "name": "ipython",
    "version": 3
   },
   "file_extension": ".py",
   "mimetype": "text/x-python",
   "name": "python",
   "nbconvert_exporter": "python",
   "pygments_lexer": "ipython3",
   "version": "3.11.4"
  },
  "orig_nbformat": 4
 },
 "nbformat": 4,
 "nbformat_minor": 2
}
