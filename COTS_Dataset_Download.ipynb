{
 "cells": [
  {
   "cell_type": "markdown",
   "metadata": {},
   "source": [
    "## Installing / Importing Packages\n",
    "\n",
    "The following packages are required for the notebook to work."
   ]
  },
  {
   "cell_type": "code",
   "execution_count": 3,
   "metadata": {},
   "outputs": [],
   "source": [
    "# Packages Install\n",
    "import git\n",
    "import os"
   ]
  },
  {
   "cell_type": "markdown",
   "metadata": {},
   "source": [
    "## Downloading Dataset\n",
    "\n",
    "The following code will download the dataset."
   ]
  },
  {
   "cell_type": "code",
   "execution_count": 4,
   "metadata": {},
   "outputs": [
    {
     "name": "stdout",
     "output_type": "stream",
     "text": [
      "Repository cloned successfully.\n",
      "Repository cloned successfully.\n"
     ]
    }
   ],
   "source": [
    "#Setting the repository URL and the directory where it will be cloned\n",
    "repo_url = 'https://github.com/dylanseychell/COTSDataset.git'\n",
    "repo_dir = 'COTSDataset'  \n",
    "\n",
    "#Checking if the repository is already cloned\n",
    "if not os.path.exists(repo_dir):\n",
    "    #Cloning the repository\n",
    "    git.Repo.clone_from(repo_url, repo_dir)\n",
    "    print(\"Repository cloned successfully.\")\n",
    "else:\n",
    "    print(\"Repository already cloned.\")"
   ]
  }
 ],
 "metadata": {
  "kernelspec": {
   "display_name": "fyp",
   "language": "python",
   "name": "python3"
  },
  "language_info": {
   "codemirror_mode": {
    "name": "ipython",
    "version": 3
   },
   "file_extension": ".py",
   "mimetype": "text/x-python",
   "name": "python",
   "nbconvert_exporter": "python",
   "pygments_lexer": "ipython3",
   "version": "3.11.4"
  },
  "orig_nbformat": 4
 },
 "nbformat": 4,
 "nbformat_minor": 2
}
